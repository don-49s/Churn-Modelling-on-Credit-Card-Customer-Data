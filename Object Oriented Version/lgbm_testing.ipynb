{
 "cells": [
  {
   "cell_type": "code",
   "execution_count": 1,
   "id": "77aed63d",
   "metadata": {},
   "outputs": [
    {
     "data": {
      "text/plain": [
       "'C:\\\\Users\\\\User\\\\Desktop\\\\Data and Predictive Models'"
      ]
     },
     "execution_count": 1,
     "metadata": {},
     "output_type": "execute_result"
    }
   ],
   "source": [
    "pwd"
   ]
  },
  {
   "cell_type": "code",
   "execution_count": 1,
   "id": "b5d24385",
   "metadata": {},
   "outputs": [],
   "source": [
    "import pandas as pd\n",
    "import numpy as np\n",
    "import matplotlib.pyplot as plt\n",
    "import seaborn as sns\n",
    "%matplotlib inline\n",
    "from lightgbm import LGBMClassifier"
   ]
  },
  {
   "cell_type": "code",
   "execution_count": 2,
   "id": "f514348d",
   "metadata": {},
   "outputs": [],
   "source": [
    "from sklearn.metrics import classification_report,confusion_matrix\n",
    "from sklearn.metrics import plot_confusion_matrix\n",
    "from sklearn.metrics import accuracy_score,recall_score,precision_score, fbeta_score\n",
    "from sklearn.metrics import log_loss\n",
    "from sklearn import metrics\n",
    "\n",
    "from sklearn.pipeline import Pipeline\n",
    "from imblearn.under_sampling import RandomUnderSampler\n",
    "from imblearn.pipeline import Pipeline\n",
    "from imblearn.over_sampling import BorderlineSMOTE\n",
    "from imblearn.over_sampling import SMOTENC"
   ]
  },
  {
   "cell_type": "code",
   "execution_count": 3,
   "id": "15b205b2",
   "metadata": {},
   "outputs": [],
   "source": [
    "ccdata = pd.read_csv('BankChurners.csv')"
   ]
  },
  {
   "cell_type": "code",
   "execution_count": 4,
   "id": "8f3c0161",
   "metadata": {},
   "outputs": [],
   "source": [
    "ccdata.drop(\"CLIENTNUM\",axis=1,inplace=True)\n",
    "ccdata.drop('Naive_Bayes_Classifier_Attrition_Flag_Card_Category_Contacts_Count_12_mon_Dependent_count_Education_Level_Months_Inactive_12_mon_1',axis=1,inplace=True)\n",
    "ccdata.drop('Naive_Bayes_Classifier_Attrition_Flag_Card_Category_Contacts_Count_12_mon_Dependent_count_Education_Level_Months_Inactive_12_mon_2',axis=1,inplace=True)\n",
    "ccdata['Gender'].replace({'M':1,'F':0},inplace=True)\n",
    "ccdata[\"Attrition_Flag\"].replace({'Existing Customer':0,'Attrited Customer':1},inplace=True)\n",
    "ccdata2 = pd.get_dummies(data=ccdata,columns=['Education_Level','Marital_Status',\"Income_Category\",'Card_Category'],drop_first=True)\n",
    "ccdata2.drop(['Avg_Open_To_Buy','Customer_Age','Total_Trans_Ct','Months_on_book','Total_Amt_Chng_Q4_Q1'],axis=1,inplace=True)"
   ]
  },
  {
   "cell_type": "code",
   "execution_count": 5,
   "id": "16639051",
   "metadata": {},
   "outputs": [],
   "source": [
    "X = ccdata2.drop(\"Attrition_Flag\",axis=1)\n",
    "y = ccdata2['Attrition_Flag']"
   ]
  },
  {
   "cell_type": "code",
   "execution_count": 6,
   "id": "e3d8b4c9",
   "metadata": {},
   "outputs": [],
   "source": [
    "from sklearn.model_selection import train_test_split\n",
    "\n",
    "X_train, X_test, y_train, y_test = train_test_split(X,y,test_size=0.3,random_state=1,stratify=y)"
   ]
  },
  {
   "cell_type": "markdown",
   "id": "7033d5ef",
   "metadata": {},
   "source": [
    "## hyperparameter optimization"
   ]
  },
  {
   "cell_type": "code",
   "execution_count": 53,
   "id": "114b8b4c",
   "metadata": {},
   "outputs": [],
   "source": [
    "lgbm_r = LGBMClassifier(application='binary')"
   ]
  },
  {
   "cell_type": "code",
   "execution_count": 54,
   "id": "679574e7",
   "metadata": {},
   "outputs": [],
   "source": [
    "from sklearn.model_selection import GridSearchCV"
   ]
  },
  {
   "cell_type": "code",
   "execution_count": 55,
   "id": "773b45d2",
   "metadata": {},
   "outputs": [],
   "source": [
    "parameter_grid = [\n",
    "    {\n",
    "        'n_estimators':np.arange(100,200,50),\n",
    "        'boosting_type':['gbdt','rf','dart','goss'],\n",
    "        'max_depth':np.arange(5,30,5),\n",
    "        'min_data_in_leaf':np.arange(30,100,10),\n",
    "        'num_leaves': np.arange(5,30,5)**2,\n",
    "        'is_unbalance':['True','False']\n",
    "    }\n",
    "]"
   ]
  },
  {
   "cell_type": "code",
   "execution_count": 56,
   "id": "06885c1d",
   "metadata": {},
   "outputs": [],
   "source": [
    "clf = GridSearchCV(lgbm_r, param_grid = parameter_grid, cv = 5, verbose = True, n_jobs = -1)"
   ]
  },
  {
   "cell_type": "code",
   "execution_count": 57,
   "id": "c031fd4f",
   "metadata": {},
   "outputs": [
    {
     "name": "stdout",
     "output_type": "stream",
     "text": [
      "Fitting 5 folds for each of 2800 candidates, totalling 14000 fits\n"
     ]
    },
    {
     "name": "stderr",
     "output_type": "stream",
     "text": [
      "C:\\Users\\User\\anaconda3\\lib\\site-packages\\sklearn\\model_selection\\_search.py:918: UserWarning: One or more of the test scores are non-finite: [0.92367225 0.92367245 0.92367245 ... 0.93679459 0.93679459 0.93679459]\n",
      "  warnings.warn(\n"
     ]
    },
    {
     "name": "stdout",
     "output_type": "stream",
     "text": [
      "[LightGBM] [Warning] min_data_in_leaf is set=60, min_child_samples=20 will be ignored. Current value: min_data_in_leaf=60\n"
     ]
    }
   ],
   "source": [
    "best_clf = clf.fit(X_train, y_train)"
   ]
  },
  {
   "cell_type": "code",
   "execution_count": 58,
   "id": "c483259c",
   "metadata": {},
   "outputs": [],
   "source": [
    "results = pd.DataFrame(clf.cv_results_)"
   ]
  },
  {
   "cell_type": "code",
   "execution_count": 59,
   "id": "93068f25",
   "metadata": {},
   "outputs": [
    {
     "data": {
      "text/plain": [
       "LGBMClassifier(application='binary', is_unbalance='False', max_depth=5,\n",
       "               min_data_in_leaf=60, n_estimators=150, num_leaves=100)"
      ]
     },
     "execution_count": 59,
     "metadata": {},
     "output_type": "execute_result"
    }
   ],
   "source": [
    "best_clf.best_estimator_"
   ]
  },
  {
   "cell_type": "code",
   "execution_count": 61,
   "id": "98fdcc23",
   "metadata": {},
   "outputs": [
    {
     "data": {
      "text/plain": [
       "0.9445538907463572"
      ]
     },
     "execution_count": 61,
     "metadata": {},
     "output_type": "execute_result"
    }
   ],
   "source": [
    "best_clf.best_score_"
   ]
  },
  {
   "cell_type": "code",
   "execution_count": 48,
   "id": "57deec8d",
   "metadata": {},
   "outputs": [
    {
     "data": {
      "text/plain": [
       "{'boosting_type': 'gbdt',\n",
       " 'max_depth': 5,\n",
       " 'min_data_in_leaf': 60,\n",
       " 'n_estimators': 150,\n",
       " 'num_leaves': 100}"
      ]
     },
     "execution_count": 48,
     "metadata": {},
     "output_type": "execute_result"
    }
   ],
   "source": [
    "best_clf.best_params_"
   ]
  },
  {
   "cell_type": "markdown",
   "id": "09f75f51",
   "metadata": {},
   "source": [
    "## testing"
   ]
  },
  {
   "cell_type": "code",
   "execution_count": 7,
   "id": "5702c8c4",
   "metadata": {},
   "outputs": [
    {
     "name": "stdout",
     "output_type": "stream",
     "text": [
      "lightmodule.py is being imported into another module\n"
     ]
    }
   ],
   "source": [
    "from lightmodule import lgbm\n",
    "#lgbm module consists of\n",
    "#classification report, confusion matrix, KPI_summary, training & testing predictive probabilities\n",
    "#training and testing log loss, feature_importance"
   ]
  },
  {
   "cell_type": "code",
   "execution_count": 22,
   "id": "9459bc94",
   "metadata": {},
   "outputs": [
    {
     "name": "stdout",
     "output_type": "stream",
     "text": [
      "[LightGBM] [Warning] min_data_in_leaf is set=60, min_child_samples=20 will be ignored. Current value: min_data_in_leaf=60\n"
     ]
    }
   ],
   "source": [
    "light1 = lgbm(X_train,X_test,y_train,y_test)"
   ]
  },
  {
   "cell_type": "code",
   "execution_count": 8,
   "id": "55c204b0",
   "metadata": {},
   "outputs": [
    {
     "data": {
      "text/plain": [
       "0    5949\n",
       "1    5949\n",
       "Name: Attrition_Flag, dtype: int64"
      ]
     },
     "execution_count": 8,
     "metadata": {},
     "output_type": "execute_result"
    }
   ],
   "source": [
    "#SMOTENC uses k-nearest neighbour algo to create synthetic samples \n",
    "#\"Note - SMOTENC takes into consideration categorical and continuous variables\"\n",
    "from imblearn.over_sampling import SMOTE\n",
    "\n",
    "#X= ccdata2.drop('Attrition_Flag',axis='columns')\n",
    "#y= ccdata2['Attrition_Flag']\n",
    "smote = SMOTE(sampling_strategy='minority') \n",
    "#samplingstrat specifies whether to use the minority or majority value for under/over-sampling\n",
    "X_sm, y_sm = smote.fit_resample(X_train,y_train)\n",
    "\n",
    "y_sm.value_counts()\n",
    "#generate train test split first then do resampling only on training set"
   ]
  },
  {
   "cell_type": "code",
   "execution_count": 9,
   "id": "c28b419e",
   "metadata": {},
   "outputs": [
    {
     "data": {
      "text/plain": [
       "0    3965\n",
       "1    2379\n",
       "Name: Attrition_Flag, dtype: int64"
      ]
     },
     "execution_count": 9,
     "metadata": {},
     "output_type": "execute_result"
    }
   ],
   "source": [
    "##### With Pipeline Step resampling #####\n",
    "over = BorderlineSMOTE(sampling_strategy=0.4)\n",
    "under = RandomUnderSampler(sampling_strategy=0.6)\n",
    "steps = [('o', over), ('u', under)]\n",
    "\n",
    "pipeline = Pipeline(steps=steps)\n",
    "X_train3, y_train3 = pipeline.fit_resample(X_train,y_train)\n",
    "y_train3.value_counts()"
   ]
  },
  {
   "cell_type": "markdown",
   "id": "b4c0e025",
   "metadata": {},
   "source": [
    "## post-feature selection"
   ]
  },
  {
   "cell_type": "code",
   "execution_count": 23,
   "id": "f0088d1f",
   "metadata": {},
   "outputs": [
    {
     "name": "stdout",
     "output_type": "stream",
     "text": [
      "    index                   Feature_names  Importances\n",
      "0       7                 Total_Trans_Amt          653\n",
      "1       8             Total_Ct_Chng_Q4_Q1          368\n",
      "2       5                    Credit_Limit          301\n",
      "3       6             Total_Revolving_Bal          280\n",
      "4       2        Total_Relationship_Count          192\n",
      "5       4           Contacts_Count_12_mon          145\n",
      "6       9           Avg_Utilization_Ratio          139\n",
      "7       3          Months_Inactive_12_mon          126\n",
      "8       1                 Dependent_count          101\n",
      "9      16          Marital_Status_Married           45\n",
      "10      0                          Gender           44\n",
      "11     13   Education_Level_Post-Graduate           20\n",
      "12     17           Marital_Status_Single           18\n",
      "13     21    Income_Category_$80K - $120K           15\n",
      "14     19     Income_Category_$40K - $60K           14\n",
      "15     15         Education_Level_Unknown           12\n",
      "16     18          Marital_Status_Unknown           12\n",
      "17     22  Income_Category_Less than $40K           11\n",
      "18     12     Education_Level_High School            9\n",
      "19     10       Education_Level_Doctorate            9\n",
      "20     11        Education_Level_Graduate            4\n",
      "21     20     Income_Category_$60K - $80K            4\n",
      "22     14      Education_Level_Uneducated            3\n",
      "23     26            Card_Category_Silver            2\n",
      "24     23         Income_Category_Unknown            1\n",
      "25     24              Card_Category_Gold            0\n",
      "26     25          Card_Category_Platinum            0 \n",
      "\n"
     ]
    },
    {
     "data": {
      "image/png": "[encoded data removed]",
      "text/plain": [
       "<Figure size 432x432 with 1 Axes>"
      ]
     },
     "metadata": {
      "needs_background": "light"
     },
     "output_type": "display_data"
    },
    {
     "name": "stdout",
     "output_type": "stream",
     "text": [
      "\n",
      "\n"
     ]
    },
    {
     "data": {
      "text/plain": [
       "<Figure size 432x288 with 0 Axes>"
      ]
     },
     "metadata": {},
     "output_type": "display_data"
    }
   ],
   "source": [
    "light1.feature_importance()"
   ]
  },
  {
   "cell_type": "code",
   "execution_count": 10,
   "id": "16f2a54d",
   "metadata": {},
   "outputs": [],
   "source": [
    "PS_X_train = X_train.drop(['Gender',\n",
    "                                 'Education_Level_Post-Graduate',\n",
    "                                 'Marital_Status_Single',\n",
    "                                 'Income_Category_$80K - $120K',\n",
    "                                 'Income_Category_$40K - $60K',\n",
    "                                 'Education_Level_Unknown',\n",
    "                                 'Marital_Status_Unknown',\n",
    "                                 'Income_Category_Less than $40K',\n",
    "                                 'Education_Level_High School',\n",
    "                                 'Education_Level_Doctorate',\n",
    "                                 'Education_Level_Graduate',\n",
    "                                 'Income_Category_$60K - $80K',\n",
    "                                 'Education_Level_Uneducated',\n",
    "                                 'Card_Category_Silver',\n",
    "                                 'Income_Category_Unknown',\n",
    "                                 'Card_Category_Gold',\n",
    "                                 'Card_Category_Platinum'],\n",
    "                                  axis = 1)\n",
    "\n",
    "PS_X_test = X_test.drop(['Gender',\n",
    "                         'Education_Level_Post-Graduate',\n",
    "                         'Marital_Status_Single',\n",
    "                         'Income_Category_$80K - $120K',\n",
    "                         'Income_Category_$40K - $60K',\n",
    "                         'Education_Level_Unknown',\n",
    "                         'Marital_Status_Unknown',\n",
    "                         'Income_Category_Less than $40K',\n",
    "                         'Education_Level_High School',\n",
    "                         'Education_Level_Doctorate',\n",
    "                         'Education_Level_Graduate',\n",
    "                         'Income_Category_$60K - $80K',\n",
    "                         'Education_Level_Uneducated',\n",
    "                         'Card_Category_Silver',\n",
    "                         'Income_Category_Unknown',\n",
    "                         'Card_Category_Gold',\n",
    "                         'Card_Category_Platinum'],\n",
    "                          axis = 1)"
   ]
  },
  {
   "cell_type": "code",
   "execution_count": 11,
   "id": "8bc6fdb2",
   "metadata": {},
   "outputs": [
    {
     "name": "stdout",
     "output_type": "stream",
     "text": [
      "<class 'pandas.core.frame.DataFrame'>\n",
      "Int64Index: 7088 entries, 4124 to 4752\n",
      "Data columns (total 10 columns):\n",
      " #   Column                    Non-Null Count  Dtype  \n",
      "---  ------                    --------------  -----  \n",
      " 0   Dependent_count           7088 non-null   int64  \n",
      " 1   Total_Relationship_Count  7088 non-null   int64  \n",
      " 2   Months_Inactive_12_mon    7088 non-null   int64  \n",
      " 3   Contacts_Count_12_mon     7088 non-null   int64  \n",
      " 4   Credit_Limit              7088 non-null   float64\n",
      " 5   Total_Revolving_Bal       7088 non-null   int64  \n",
      " 6   Total_Trans_Amt           7088 non-null   int64  \n",
      " 7   Total_Ct_Chng_Q4_Q1       7088 non-null   float64\n",
      " 8   Avg_Utilization_Ratio     7088 non-null   float64\n",
      " 9   Marital_Status_Married    7088 non-null   uint8  \n",
      "dtypes: float64(3), int64(6), uint8(1)\n",
      "memory usage: 560.7 KB\n"
     ]
    }
   ],
   "source": [
    "PS_X_train.info()"
   ]
  },
  {
   "cell_type": "code",
   "execution_count": 12,
   "id": "6119c048",
   "metadata": {},
   "outputs": [
    {
     "data": {
      "text/plain": [
       "0    5949\n",
       "1    5949\n",
       "Name: Attrition_Flag, dtype: int64"
      ]
     },
     "execution_count": 12,
     "metadata": {},
     "output_type": "execute_result"
    }
   ],
   "source": [
    "smote = SMOTE(sampling_strategy='minority') \n",
    "#samplingstrat specifies whether to use the minority or majority value for under/over-sampling\n",
    "X_sm2, y_sm2 = smote.fit_resample(PS_X_train,y_train)\n",
    "\n",
    "y_sm2.value_counts()\n",
    "#generate train test split first then do resampling only on training set"
   ]
  },
  {
   "cell_type": "code",
   "execution_count": 13,
   "id": "6cd9343a",
   "metadata": {},
   "outputs": [
    {
     "data": {
      "text/plain": [
       "0    3965\n",
       "1    2379\n",
       "Name: Attrition_Flag, dtype: int64"
      ]
     },
     "execution_count": 13,
     "metadata": {},
     "output_type": "execute_result"
    }
   ],
   "source": [
    "##### With Pipeline Step resampling #####\n",
    "over = BorderlineSMOTE(sampling_strategy=0.4)\n",
    "under = RandomUnderSampler(sampling_strategy=0.6)\n",
    "steps = [('o', over), ('u', under)]\n",
    "\n",
    "pipeline = Pipeline(steps=steps)\n",
    "X_train4, y_train4 = pipeline.fit_resample(PS_X_train,y_train)\n",
    "y_train4.value_counts()"
   ]
  },
  {
   "cell_type": "code",
   "execution_count": 14,
   "id": "f70a32b9",
   "metadata": {},
   "outputs": [
    {
     "name": "stdout",
     "output_type": "stream",
     "text": [
      "[LightGBM] [Warning] min_data_in_leaf is set=60, min_child_samples=20 will be ignored. Current value: min_data_in_leaf=60\n",
      "[LightGBM] [Warning] min_data_in_leaf is set=60, min_child_samples=20 will be ignored. Current value: min_data_in_leaf=60\n",
      "[LightGBM] [Warning] min_data_in_leaf is set=60, min_child_samples=20 will be ignored. Current value: min_data_in_leaf=60\n",
      "[LightGBM] [Warning] min_data_in_leaf is set=60, min_child_samples=20 will be ignored. Current value: min_data_in_leaf=60\n",
      "[LightGBM] [Warning] min_data_in_leaf is set=60, min_child_samples=20 will be ignored. Current value: min_data_in_leaf=60\n",
      "[LightGBM] [Warning] min_data_in_leaf is set=60, min_child_samples=20 will be ignored. Current value: min_data_in_leaf=60\n",
      "[LightGBM] [Warning] min_data_in_leaf is set=60, min_child_samples=20 will be ignored. Current value: min_data_in_leaf=60\n",
      "[LightGBM] [Warning] min_data_in_leaf is set=60, min_child_samples=20 will be ignored. Current value: min_data_in_leaf=60\n",
      "[LightGBM] [Warning] min_data_in_leaf is set=60, min_child_samples=20 will be ignored. Current value: min_data_in_leaf=60\n",
      "[LightGBM] [Warning] min_data_in_leaf is set=60, min_child_samples=20 will be ignored. Current value: min_data_in_leaf=60\n",
      "[LightGBM] [Warning] min_data_in_leaf is set=60, min_child_samples=20 will be ignored. Current value: min_data_in_leaf=60\n",
      "[LightGBM] [Warning] min_data_in_leaf is set=60, min_child_samples=20 will be ignored. Current value: min_data_in_leaf=60\n"
     ]
    }
   ],
   "source": [
    "from lightmodule import lgbm,lgbm_unbalanced\n",
    "\n",
    "light1 = lgbm(X_train,X_test,y_train,y_test)\n",
    "light2 = lgbm(X_sm,X_test,y_sm,y_test)\n",
    "light3 = lgbm(X_train3,X_test,y_train3,y_test)\n",
    "light4 = lgbm(PS_X_train, PS_X_test,y_train,y_test)\n",
    "light5 = lgbm(X_sm2, PS_X_test, y_sm2,y_test)\n",
    "light6 = lgbm(X_train4, PS_X_test, y_train4,y_test)\n",
    "light7 = lgbm_unbalanced(X_train,X_test,y_train,y_test)\n",
    "light8 = lgbm_unbalanced(X_sm, X_test, y_sm, y_test)\n",
    "light9 = lgbm_unbalanced(X_train3,X_test,y_train3,y_test)\n",
    "light10 = lgbm_unbalanced(PS_X_train, PS_X_test,y_train,y_test)\n",
    "light11 = lgbm_unbalanced(X_sm2, PS_X_test, y_sm2,y_test)\n",
    "light12 = lgbm_unbalanced(X_train4, PS_X_test, y_train4,y_test)"
   ]
  },
  {
   "cell_type": "code",
   "execution_count": 15,
   "id": "901dbbe7",
   "metadata": {},
   "outputs": [
    {
     "name": "stdout",
     "output_type": "stream",
     "text": [
      "light1:  0.8333333333333334\n",
      "light2:  0.8407798537774167\n",
      "light3:  0.8546325878594248\n",
      "light4:  0.8412567176519222\n",
      "light5:  0.8564724286272977\n",
      "light6:  0.8558558558558559\n",
      "light7:  0.8793576184880533\n",
      "light8:  0.8407798537774167\n",
      "light9:  0.8642216152945768\n",
      "light10:  0.8751458576429404\n",
      "light11:  0.8564724286272977\n",
      "light12:  0.8703136954858454\n"
     ]
    },
    {
     "data": {
      "text/plain": [
       "[None, None, None, None, None, None, None, None, None, None, None, None]"
      ]
     },
     "execution_count": 15,
     "metadata": {},
     "output_type": "execute_result"
    }
   ],
   "source": [
    "ls10 = [light1,light2,light3,light4,light5,light6,light7,light8,light9,light10,light11,light12]\n",
    "[print('light{}: '.format(i+1),x.f2_score) for i,x in enumerate(ls10)]"
   ]
  },
  {
   "cell_type": "code",
   "execution_count": 16,
   "id": "e6637897",
   "metadata": {},
   "outputs": [
    {
     "name": "stdout",
     "output_type": "stream",
     "text": [
      "accuracy score =  93.72 %\n",
      "recall =  92.01 %\n",
      "precision =  74.71 %\n",
      "f2_score =  87.94 %\n",
      "training accuracy =  95.67 %\n",
      "testing accuracy =  93.72 %\n"
     ]
    }
   ],
   "source": [
    "light7.KPI_summary()"
   ]
  },
  {
   "cell_type": "code",
   "execution_count": 24,
   "id": "20875926",
   "metadata": {},
   "outputs": [
    {
     "name": "stdout",
     "output_type": "stream",
     "text": [
      "[LightGBM] [Warning] min_data_in_leaf is set=60, min_child_samples=20 will be ignored. Current value: min_data_in_leaf=60\n",
      "[LightGBM] [Warning] min_data_in_leaf is set=60, min_child_samples=20 will be ignored. Current value: min_data_in_leaf=60\n",
      "[LightGBM] [Warning] min_data_in_leaf is set=60, min_child_samples=20 will be ignored. Current value: min_data_in_leaf=60\n",
      "[LightGBM] [Warning] min_data_in_leaf is set=60, min_child_samples=20 will be ignored. Current value: min_data_in_leaf=60\n",
      "[LightGBM] [Warning] min_data_in_leaf is set=60, min_child_samples=20 will be ignored. Current value: min_data_in_leaf=60\n",
      "[LightGBM] [Warning] min_data_in_leaf is set=60, min_child_samples=20 will be ignored. Current value: min_data_in_leaf=60\n",
      "    index                   Feature_names  Importances\n",
      "0       7                 Total_Trans_Amt          684\n",
      "1       8             Total_Ct_Chng_Q4_Q1          342\n",
      "2       6             Total_Revolving_Bal          341\n",
      "3       5                    Credit_Limit          321\n",
      "4       2        Total_Relationship_Count          168\n",
      "5       9           Avg_Utilization_Ratio          135\n",
      "6       4           Contacts_Count_12_mon          115\n",
      "7       3          Months_Inactive_12_mon           99\n",
      "8       1                 Dependent_count           94\n",
      "9       0                          Gender           62\n",
      "10     16          Marital_Status_Married           40\n",
      "11     19     Income_Category_$40K - $60K           32\n",
      "12     11        Education_Level_Graduate           32\n",
      "13     22  Income_Category_Less than $40K           27\n",
      "14     23         Income_Category_Unknown           27\n",
      "15     17           Marital_Status_Single           26\n",
      "16     12     Education_Level_High School           25\n",
      "17     15         Education_Level_Unknown           19\n",
      "18     21    Income_Category_$80K - $120K           18\n",
      "19     14      Education_Level_Uneducated           16\n",
      "20     20     Income_Category_$60K - $80K           14\n",
      "21     18          Marital_Status_Unknown           13\n",
      "22     13   Education_Level_Post-Graduate           12\n",
      "23     26            Card_Category_Silver            7\n",
      "24     10       Education_Level_Doctorate            5\n",
      "25     24              Card_Category_Gold            0\n",
      "26     25          Card_Category_Platinum            0 \n",
      "\n"
     ]
    },
    {
     "data": {
      "image/png": "[encoded data removed]",
      "text/plain": [
       "<Figure size 432x432 with 1 Axes>"
      ]
     },
     "metadata": {
      "needs_background": "light"
     },
     "output_type": "display_data"
    },
    {
     "name": "stdout",
     "output_type": "stream",
     "text": [
      "\n",
      "\n",
      "    index                   Feature_names  Importances\n",
      "0       7                 Total_Trans_Amt          684\n",
      "1       8             Total_Ct_Chng_Q4_Q1          342\n",
      "2       6             Total_Revolving_Bal          341\n",
      "3       5                    Credit_Limit          321\n",
      "4       2        Total_Relationship_Count          168\n",
      "5       9           Avg_Utilization_Ratio          135\n",
      "6       4           Contacts_Count_12_mon          115\n",
      "7       3          Months_Inactive_12_mon           99\n",
      "8       1                 Dependent_count           94\n",
      "9       0                          Gender           62\n",
      "10     16          Marital_Status_Married           40\n",
      "11     19     Income_Category_$40K - $60K           32\n",
      "12     11        Education_Level_Graduate           32\n",
      "13     22  Income_Category_Less than $40K           27\n",
      "14     23         Income_Category_Unknown           27\n",
      "15     17           Marital_Status_Single           26\n",
      "16     12     Education_Level_High School           25\n",
      "17     15         Education_Level_Unknown           19\n",
      "18     21    Income_Category_$80K - $120K           18\n",
      "19     14      Education_Level_Uneducated           16\n",
      "20     20     Income_Category_$60K - $80K           14\n",
      "21     18          Marital_Status_Unknown           13\n",
      "22     13   Education_Level_Post-Graduate           12\n",
      "23     26            Card_Category_Silver            7\n",
      "24     10       Education_Level_Doctorate            5\n",
      "25     24              Card_Category_Gold            0\n",
      "26     25          Card_Category_Platinum            0 \n",
      "\n"
     ]
    },
    {
     "data": {
      "text/plain": [
       "<Figure size 432x288 with 0 Axes>"
      ]
     },
     "metadata": {},
     "output_type": "display_data"
    },
    {
     "data": {
      "image/png": "[encoded data removed]",
      "text/plain": [
       "<Figure size 432x432 with 1 Axes>"
      ]
     },
     "metadata": {
      "needs_background": "light"
     },
     "output_type": "display_data"
    },
    {
     "name": "stdout",
     "output_type": "stream",
     "text": [
      "\n",
      "\n",
      "    index                   Feature_names  Importances\n",
      "0       7                 Total_Trans_Amt          684\n",
      "1       8             Total_Ct_Chng_Q4_Q1          342\n",
      "2       6             Total_Revolving_Bal          341\n",
      "3       5                    Credit_Limit          321\n",
      "4       2        Total_Relationship_Count          168\n",
      "5       9           Avg_Utilization_Ratio          135\n",
      "6       4           Contacts_Count_12_mon          115\n",
      "7       3          Months_Inactive_12_mon           99\n",
      "8       1                 Dependent_count           94\n",
      "9       0                          Gender           62\n",
      "10     16          Marital_Status_Married           40\n",
      "11     19     Income_Category_$40K - $60K           32\n",
      "12     11        Education_Level_Graduate           32\n",
      "13     22  Income_Category_Less than $40K           27\n",
      "14     23         Income_Category_Unknown           27\n",
      "15     17           Marital_Status_Single           26\n",
      "16     12     Education_Level_High School           25\n",
      "17     15         Education_Level_Unknown           19\n",
      "18     21    Income_Category_$80K - $120K           18\n",
      "19     14      Education_Level_Uneducated           16\n",
      "20     20     Income_Category_$60K - $80K           14\n",
      "21     18          Marital_Status_Unknown           13\n",
      "22     13   Education_Level_Post-Graduate           12\n",
      "23     26            Card_Category_Silver            7\n",
      "24     10       Education_Level_Doctorate            5\n",
      "25     24              Card_Category_Gold            0\n",
      "26     25          Card_Category_Platinum            0 \n",
      "\n"
     ]
    },
    {
     "data": {
      "text/plain": [
       "<Figure size 432x288 with 0 Axes>"
      ]
     },
     "metadata": {},
     "output_type": "display_data"
    },
    {
     "data": {
      "image/png": "[encoded data removed]",
      "text/plain": [
       "<Figure size 432x432 with 1 Axes>"
      ]
     },
     "metadata": {
      "needs_background": "light"
     },
     "output_type": "display_data"
    },
    {
     "name": "stdout",
     "output_type": "stream",
     "text": [
      "\n",
      "\n",
      "    index                   Feature_names  Importances\n",
      "0       7                 Total_Trans_Amt          639\n",
      "1       6             Total_Revolving_Bal          377\n",
      "2       8             Total_Ct_Chng_Q4_Q1          331\n",
      "3       5                    Credit_Limit          305\n",
      "4       2        Total_Relationship_Count          172\n",
      "5       9           Avg_Utilization_Ratio          132\n",
      "6       4           Contacts_Count_12_mon          123\n",
      "7       1                 Dependent_count          115\n",
      "8       3          Months_Inactive_12_mon           94\n",
      "9       0                          Gender           51\n",
      "10     16          Marital_Status_Married           51\n",
      "11     19     Income_Category_$40K - $60K           32\n",
      "12     11        Education_Level_Graduate           30\n",
      "13     17           Marital_Status_Single           29\n",
      "14     22  Income_Category_Less than $40K           27\n",
      "15     23         Income_Category_Unknown           24\n",
      "16     21    Income_Category_$80K - $120K           23\n",
      "17     12     Education_Level_High School           22\n",
      "18     20     Income_Category_$60K - $80K           17\n",
      "19     14      Education_Level_Uneducated           16\n",
      "20     15         Education_Level_Unknown           15\n",
      "21     18          Marital_Status_Unknown           14\n",
      "22     13   Education_Level_Post-Graduate           12\n",
      "23     10       Education_Level_Doctorate            6\n",
      "24     26            Card_Category_Silver            5\n",
      "25     24              Card_Category_Gold            0\n",
      "26     25          Card_Category_Platinum            0 \n",
      "\n"
     ]
    },
    {
     "data": {
      "text/plain": [
       "<Figure size 432x288 with 0 Axes>"
      ]
     },
     "metadata": {},
     "output_type": "display_data"
    },
    {
     "data": {
      "image/png": "[encoded data removed]",
      "text/plain": [
       "<Figure size 432x432 with 1 Axes>"
      ]
     },
     "metadata": {
      "needs_background": "light"
     },
     "output_type": "display_data"
    },
    {
     "name": "stdout",
     "output_type": "stream",
     "text": [
      "\n",
      "\n",
      "    index                   Feature_names  Importances\n",
      "0       7                 Total_Trans_Amt          639\n",
      "1       6             Total_Revolving_Bal          377\n",
      "2       8             Total_Ct_Chng_Q4_Q1          331\n",
      "3       5                    Credit_Limit          305\n",
      "4       2        Total_Relationship_Count          172\n",
      "5       9           Avg_Utilization_Ratio          132\n",
      "6       4           Contacts_Count_12_mon          123\n",
      "7       1                 Dependent_count          115\n",
      "8       3          Months_Inactive_12_mon           94\n",
      "9       0                          Gender           51\n",
      "10     16          Marital_Status_Married           51\n",
      "11     19     Income_Category_$40K - $60K           32\n",
      "12     11        Education_Level_Graduate           30\n",
      "13     17           Marital_Status_Single           29\n",
      "14     22  Income_Category_Less than $40K           27\n",
      "15     23         Income_Category_Unknown           24\n",
      "16     21    Income_Category_$80K - $120K           23\n",
      "17     12     Education_Level_High School           22\n",
      "18     20     Income_Category_$60K - $80K           17\n",
      "19     14      Education_Level_Uneducated           16\n",
      "20     15         Education_Level_Unknown           15\n",
      "21     18          Marital_Status_Unknown           14\n",
      "22     13   Education_Level_Post-Graduate           12\n",
      "23     10       Education_Level_Doctorate            6\n",
      "24     26            Card_Category_Silver            5\n",
      "25     24              Card_Category_Gold            0\n",
      "26     25          Card_Category_Platinum            0 \n",
      "\n"
     ]
    },
    {
     "data": {
      "text/plain": [
       "<Figure size 432x288 with 0 Axes>"
      ]
     },
     "metadata": {},
     "output_type": "display_data"
    },
    {
     "data": {
      "image/png": "[encoded data removed]",
      "text/plain": [
       "<Figure size 432x432 with 1 Axes>"
      ]
     },
     "metadata": {
      "needs_background": "light"
     },
     "output_type": "display_data"
    },
    {
     "name": "stdout",
     "output_type": "stream",
     "text": [
      "\n",
      "\n",
      "    index                   Feature_names  Importances\n",
      "0       7                 Total_Trans_Amt          639\n",
      "1       6             Total_Revolving_Bal          377\n",
      "2       8             Total_Ct_Chng_Q4_Q1          331\n",
      "3       5                    Credit_Limit          305\n",
      "4       2        Total_Relationship_Count          172\n",
      "5       9           Avg_Utilization_Ratio          132\n",
      "6       4           Contacts_Count_12_mon          123\n",
      "7       1                 Dependent_count          115\n",
      "8       3          Months_Inactive_12_mon           94\n",
      "9       0                          Gender           51\n",
      "10     16          Marital_Status_Married           51\n",
      "11     19     Income_Category_$40K - $60K           32\n",
      "12     11        Education_Level_Graduate           30\n",
      "13     17           Marital_Status_Single           29\n",
      "14     22  Income_Category_Less than $40K           27\n",
      "15     23         Income_Category_Unknown           24\n",
      "16     21    Income_Category_$80K - $120K           23\n",
      "17     12     Education_Level_High School           22\n",
      "18     20     Income_Category_$60K - $80K           17\n",
      "19     14      Education_Level_Uneducated           16\n",
      "20     15         Education_Level_Unknown           15\n",
      "21     18          Marital_Status_Unknown           14\n",
      "22     13   Education_Level_Post-Graduate           12\n",
      "23     10       Education_Level_Doctorate            6\n",
      "24     26            Card_Category_Silver            5\n",
      "25     24              Card_Category_Gold            0\n",
      "26     25          Card_Category_Platinum            0 \n",
      "\n"
     ]
    },
    {
     "data": {
      "text/plain": [
       "<Figure size 432x288 with 0 Axes>"
      ]
     },
     "metadata": {},
     "output_type": "display_data"
    },
    {
     "data": {
      "image/png": "[encoded data removed]",
      "text/plain": [
       "<Figure size 432x432 with 1 Axes>"
      ]
     },
     "metadata": {
      "needs_background": "light"
     },
     "output_type": "display_data"
    },
    {
     "name": "stdout",
     "output_type": "stream",
     "text": [
      "\n",
      "\n"
     ]
    },
    {
     "data": {
      "text/plain": [
       "[None, None, None, None, None, None]"
      ]
     },
     "execution_count": 24,
     "metadata": {},
     "output_type": "execute_result"
    },
    {
     "data": {
      "text/plain": [
       "<Figure size 432x288 with 0 Axes>"
      ]
     },
     "metadata": {},
     "output_type": "display_data"
    }
   ],
   "source": [
    "light1 = lgbm(X_train,X_test,y_train,y_test)\n",
    "light2 = lgbm(X_sm,X_test,y_sm,y_test)\n",
    "light3 = lgbm(X_train3,X_test,y_train3,y_test)\n",
    "light7 = lgbm_unbalanced(X_train,X_test,y_train,y_test)\n",
    "light8 = lgbm_unbalanced(X_sm, X_test, y_sm, y_test)\n",
    "light9 = lgbm_unbalanced(X_train3,X_test,y_train3,y_test)\n",
    "\n",
    "ls10 = [light1,light2,light3,light7,light8,light9]\n",
    "[x.feature_importance() for x in ls10]"
   ]
  },
  {
   "cell_type": "code",
   "execution_count": 25,
   "id": "b280aecb",
   "metadata": {
    "scrolled": false
   },
   "outputs": [
    {
     "name": "stdout",
     "output_type": "stream",
     "text": [
      "[LightGBM] [Warning] min_data_in_leaf is set=60, min_child_samples=20 will be ignored. Current value: min_data_in_leaf=60\n",
      "[LightGBM] [Warning] min_data_in_leaf is set=60, min_child_samples=20 will be ignored. Current value: min_data_in_leaf=60\n",
      "[LightGBM] [Warning] min_data_in_leaf is set=60, min_child_samples=20 will be ignored. Current value: min_data_in_leaf=60\n",
      "[LightGBM] [Warning] min_data_in_leaf is set=60, min_child_samples=20 will be ignored. Current value: min_data_in_leaf=60\n",
      "[LightGBM] [Warning] min_data_in_leaf is set=60, min_child_samples=20 will be ignored. Current value: min_data_in_leaf=60\n",
      "[LightGBM] [Warning] min_data_in_leaf is set=60, min_child_samples=20 will be ignored. Current value: min_data_in_leaf=60\n",
      "   index             Feature_names  Importances\n",
      "0      6           Total_Trans_Amt          752\n",
      "1      5       Total_Revolving_Bal          361\n",
      "2      7       Total_Ct_Chng_Q4_Q1          360\n",
      "3      4              Credit_Limit          350\n",
      "4      1  Total_Relationship_Count          219\n",
      "5      8     Avg_Utilization_Ratio          182\n",
      "6      3     Contacts_Count_12_mon          145\n",
      "7      0           Dependent_count          126\n",
      "8      2    Months_Inactive_12_mon           98\n",
      "9      9    Marital_Status_Married           58 \n",
      "\n"
     ]
    },
    {
     "data": {
      "image/png": "[encoded data removed]",
      "text/plain": [
       "<Figure size 432x432 with 1 Axes>"
      ]
     },
     "metadata": {
      "needs_background": "light"
     },
     "output_type": "display_data"
    },
    {
     "name": "stdout",
     "output_type": "stream",
     "text": [
      "\n",
      "\n",
      "   index             Feature_names  Importances\n",
      "0      6           Total_Trans_Amt          752\n",
      "1      5       Total_Revolving_Bal          361\n",
      "2      7       Total_Ct_Chng_Q4_Q1          360\n",
      "3      4              Credit_Limit          350\n",
      "4      1  Total_Relationship_Count          219\n",
      "5      8     Avg_Utilization_Ratio          182\n",
      "6      3     Contacts_Count_12_mon          145\n",
      "7      0           Dependent_count          126\n",
      "8      2    Months_Inactive_12_mon           98\n",
      "9      9    Marital_Status_Married           58 \n",
      "\n"
     ]
    },
    {
     "data": {
      "text/plain": [
       "<Figure size 432x288 with 0 Axes>"
      ]
     },
     "metadata": {},
     "output_type": "display_data"
    },
    {
     "data": {
      "image/png": "[encoded data removed]",
      "text/plain": [
       "<Figure size 432x432 with 1 Axes>"
      ]
     },
     "metadata": {
      "needs_background": "light"
     },
     "output_type": "display_data"
    },
    {
     "name": "stdout",
     "output_type": "stream",
     "text": [
      "\n",
      "\n",
      "   index             Feature_names  Importances\n",
      "0      6           Total_Trans_Amt          752\n",
      "1      5       Total_Revolving_Bal          361\n",
      "2      7       Total_Ct_Chng_Q4_Q1          360\n",
      "3      4              Credit_Limit          350\n",
      "4      1  Total_Relationship_Count          219\n",
      "5      8     Avg_Utilization_Ratio          182\n",
      "6      3     Contacts_Count_12_mon          145\n",
      "7      0           Dependent_count          126\n",
      "8      2    Months_Inactive_12_mon           98\n",
      "9      9    Marital_Status_Married           58 \n",
      "\n"
     ]
    },
    {
     "data": {
      "text/plain": [
       "<Figure size 432x288 with 0 Axes>"
      ]
     },
     "metadata": {},
     "output_type": "display_data"
    },
    {
     "data": {
      "image/png": "[encoded data removed]",
      "text/plain": [
       "<Figure size 432x432 with 1 Axes>"
      ]
     },
     "metadata": {
      "needs_background": "light"
     },
     "output_type": "display_data"
    },
    {
     "name": "stdout",
     "output_type": "stream",
     "text": [
      "\n",
      "\n",
      "   index             Feature_names  Importances\n",
      "0      6           Total_Trans_Amt          742\n",
      "1      4              Credit_Limit          365\n",
      "2      7       Total_Ct_Chng_Q4_Q1          360\n",
      "3      5       Total_Revolving_Bal          331\n",
      "4      1  Total_Relationship_Count          241\n",
      "5      8     Avg_Utilization_Ratio          179\n",
      "6      3     Contacts_Count_12_mon          150\n",
      "7      0           Dependent_count          138\n",
      "8      2    Months_Inactive_12_mon          106\n",
      "9      9    Marital_Status_Married           64 \n",
      "\n"
     ]
    },
    {
     "data": {
      "text/plain": [
       "<Figure size 432x288 with 0 Axes>"
      ]
     },
     "metadata": {},
     "output_type": "display_data"
    },
    {
     "data": {
      "image/png": "[encoded data removed]",
      "text/plain": [
       "<Figure size 432x432 with 1 Axes>"
      ]
     },
     "metadata": {
      "needs_background": "light"
     },
     "output_type": "display_data"
    },
    {
     "name": "stdout",
     "output_type": "stream",
     "text": [
      "\n",
      "\n",
      "   index             Feature_names  Importances\n",
      "0      6           Total_Trans_Amt          742\n",
      "1      4              Credit_Limit          365\n",
      "2      7       Total_Ct_Chng_Q4_Q1          360\n",
      "3      5       Total_Revolving_Bal          331\n",
      "4      1  Total_Relationship_Count          241\n",
      "5      8     Avg_Utilization_Ratio          179\n",
      "6      3     Contacts_Count_12_mon          150\n",
      "7      0           Dependent_count          138\n",
      "8      2    Months_Inactive_12_mon          106\n",
      "9      9    Marital_Status_Married           64 \n",
      "\n"
     ]
    },
    {
     "data": {
      "text/plain": [
       "<Figure size 432x288 with 0 Axes>"
      ]
     },
     "metadata": {},
     "output_type": "display_data"
    },
    {
     "data": {
      "image/png": "[encoded data removed]",
      "text/plain": [
       "<Figure size 432x432 with 1 Axes>"
      ]
     },
     "metadata": {
      "needs_background": "light"
     },
     "output_type": "display_data"
    },
    {
     "name": "stdout",
     "output_type": "stream",
     "text": [
      "\n",
      "\n",
      "   index             Feature_names  Importances\n",
      "0      6           Total_Trans_Amt          742\n",
      "1      4              Credit_Limit          365\n",
      "2      7       Total_Ct_Chng_Q4_Q1          360\n",
      "3      5       Total_Revolving_Bal          331\n",
      "4      1  Total_Relationship_Count          241\n",
      "5      8     Avg_Utilization_Ratio          179\n",
      "6      3     Contacts_Count_12_mon          150\n",
      "7      0           Dependent_count          138\n",
      "8      2    Months_Inactive_12_mon          106\n",
      "9      9    Marital_Status_Married           64 \n",
      "\n"
     ]
    },
    {
     "data": {
      "text/plain": [
       "<Figure size 432x288 with 0 Axes>"
      ]
     },
     "metadata": {},
     "output_type": "display_data"
    },
    {
     "data": {
      "image/png": "[encoded data removed]",
      "text/plain": [
       "<Figure size 432x432 with 1 Axes>"
      ]
     },
     "metadata": {
      "needs_background": "light"
     },
     "output_type": "display_data"
    },
    {
     "name": "stdout",
     "output_type": "stream",
     "text": [
      "\n",
      "\n"
     ]
    },
    {
     "data": {
      "text/plain": [
       "[None, None, None, None, None, None]"
      ]
     },
     "execution_count": 25,
     "metadata": {},
     "output_type": "execute_result"
    },
    {
     "data": {
      "text/plain": [
       "<Figure size 432x288 with 0 Axes>"
      ]
     },
     "metadata": {},
     "output_type": "display_data"
    }
   ],
   "source": [
    "light4 = lgbm(PS_X_train, PS_X_test,y_train,y_test)\n",
    "light5 = lgbm(X_sm2, PS_X_test, y_sm2,y_test)\n",
    "light6 = lgbm(X_train4, PS_X_test, y_train4,y_test)\n",
    "light10 = lgbm_unbalanced(PS_X_train, PS_X_test,y_train,y_test)\n",
    "light11 = lgbm_unbalanced(X_sm2, PS_X_test, y_sm2,y_test)\n",
    "light12 = lgbm_unbalanced(X_train4, PS_X_test, y_train4,y_test)\n",
    "\n",
    "ls11 = [light4,light5,light6,light10,light11,light12]\n",
    "\n",
    "[x.feature_importance() for x in ls11]"
   ]
  },
  {
   "cell_type": "code",
   "execution_count": null,
   "id": "efb92f58",
   "metadata": {},
   "outputs": [],
   "source": []
  }
 ],
 "metadata": {
  "kernelspec": {
   "display_name": "Python 3",
   "language": "python",
   "name": "python3"
  },
  "language_info": {
   "codemirror_mode": {
    "name": "ipython",
    "version": 3
   },
   "file_extension": ".py",
   "mimetype": "text/x-python",
   "name": "python",
   "nbconvert_exporter": "python",
   "pygments_lexer": "ipython3",
   "version": "3.8.8"
  }
 },
 "nbformat": 4,
 "nbformat_minor": 5
}
