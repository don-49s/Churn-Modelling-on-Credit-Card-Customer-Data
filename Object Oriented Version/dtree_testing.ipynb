{
 "cells": [
  {
   "cell_type": "code",
   "execution_count": 1,
   "id": "61d76d97",
   "metadata": {},
   "outputs": [],
   "source": [
    "import pandas as pd\n",
    "import numpy as np\n",
    "import matplotlib.pyplot as plt\n",
    "import seaborn as sns\n",
    "%matplotlib inline\n",
    "\n",
    "from sklearn.tree import DecisionTreeClassifier #decision tree\n",
    "from sklearn import tree\n",
    "\n",
    "from sklearn.metrics import classification_report,confusion_matrix\n",
    "from sklearn.metrics import plot_confusion_matrix\n",
    "from sklearn.metrics import accuracy_score,recall_score,precision_score,fbeta_score\n",
    "from sklearn.metrics import log_loss\n",
    "from sklearn import metrics\n",
    "\n",
    "from sklearn.pipeline import Pipeline\n",
    "from imblearn.under_sampling import RandomUnderSampler\n",
    "from imblearn.pipeline import Pipeline\n",
    "from imblearn.over_sampling import BorderlineSMOTE\n",
    "from imblearn.over_sampling import SMOTENC\n",
    "\n",
    "from IPython.display import Image  \n",
    "from six import StringIO  \n",
    "import graphviz\n",
    "import pydot "
   ]
  },
  {
   "cell_type": "code",
   "execution_count": 2,
   "id": "07b11a10",
   "metadata": {},
   "outputs": [
    {
     "data": {
      "text/html": [
       "<div>\n",
       "<style scoped>\n",
       "    .dataframe tbody tr th:only-of-type {\n",
       "        vertical-align: middle;\n",
       "    }\n",
       "\n",
       "    .dataframe tbody tr th {\n",
       "        vertical-align: top;\n",
       "    }\n",
       "\n",
       "    .dataframe thead th {\n",
       "        text-align: right;\n",
       "    }\n",
       "</style>\n",
       "<table border=\"1\" class=\"dataframe\">\n",
       "  <thead>\n",
       "    <tr style=\"text-align: right;\">\n",
       "      <th></th>\n",
       "      <th>CLIENTNUM</th>\n",
       "      <th>Attrition_Flag</th>\n",
       "      <th>Customer_Age</th>\n",
       "      <th>Gender</th>\n",
       "      <th>Dependent_count</th>\n",
       "      <th>Education_Level</th>\n",
       "      <th>Marital_Status</th>\n",
       "      <th>Income_Category</th>\n",
       "      <th>Card_Category</th>\n",
       "      <th>Months_on_book</th>\n",
       "      <th>...</th>\n",
       "      <th>Credit_Limit</th>\n",
       "      <th>Total_Revolving_Bal</th>\n",
       "      <th>Avg_Open_To_Buy</th>\n",
       "      <th>Total_Amt_Chng_Q4_Q1</th>\n",
       "      <th>Total_Trans_Amt</th>\n",
       "      <th>Total_Trans_Ct</th>\n",
       "      <th>Total_Ct_Chng_Q4_Q1</th>\n",
       "      <th>Avg_Utilization_Ratio</th>\n",
       "      <th>Naive_Bayes_Classifier_Attrition_Flag_Card_Category_Contacts_Count_12_mon_Dependent_count_Education_Level_Months_Inactive_12_mon_1</th>\n",
       "      <th>Naive_Bayes_Classifier_Attrition_Flag_Card_Category_Contacts_Count_12_mon_Dependent_count_Education_Level_Months_Inactive_12_mon_2</th>\n",
       "    </tr>\n",
       "  </thead>\n",
       "  <tbody>\n",
       "    <tr>\n",
       "      <th>0</th>\n",
       "      <td>768805383</td>\n",
       "      <td>Existing Customer</td>\n",
       "      <td>45</td>\n",
       "      <td>M</td>\n",
       "      <td>3</td>\n",
       "      <td>High School</td>\n",
       "      <td>Married</td>\n",
       "      <td>$60K - $80K</td>\n",
       "      <td>Blue</td>\n",
       "      <td>39</td>\n",
       "      <td>...</td>\n",
       "      <td>12691.0</td>\n",
       "      <td>777</td>\n",
       "      <td>11914.0</td>\n",
       "      <td>1.335</td>\n",
       "      <td>1144</td>\n",
       "      <td>42</td>\n",
       "      <td>1.625</td>\n",
       "      <td>0.061</td>\n",
       "      <td>0.000093</td>\n",
       "      <td>0.99991</td>\n",
       "    </tr>\n",
       "    <tr>\n",
       "      <th>1</th>\n",
       "      <td>818770008</td>\n",
       "      <td>Existing Customer</td>\n",
       "      <td>49</td>\n",
       "      <td>F</td>\n",
       "      <td>5</td>\n",
       "      <td>Graduate</td>\n",
       "      <td>Single</td>\n",
       "      <td>Less than $40K</td>\n",
       "      <td>Blue</td>\n",
       "      <td>44</td>\n",
       "      <td>...</td>\n",
       "      <td>8256.0</td>\n",
       "      <td>864</td>\n",
       "      <td>7392.0</td>\n",
       "      <td>1.541</td>\n",
       "      <td>1291</td>\n",
       "      <td>33</td>\n",
       "      <td>3.714</td>\n",
       "      <td>0.105</td>\n",
       "      <td>0.000057</td>\n",
       "      <td>0.99994</td>\n",
       "    </tr>\n",
       "    <tr>\n",
       "      <th>2</th>\n",
       "      <td>713982108</td>\n",
       "      <td>Existing Customer</td>\n",
       "      <td>51</td>\n",
       "      <td>M</td>\n",
       "      <td>3</td>\n",
       "      <td>Graduate</td>\n",
       "      <td>Married</td>\n",
       "      <td>$80K - $120K</td>\n",
       "      <td>Blue</td>\n",
       "      <td>36</td>\n",
       "      <td>...</td>\n",
       "      <td>3418.0</td>\n",
       "      <td>0</td>\n",
       "      <td>3418.0</td>\n",
       "      <td>2.594</td>\n",
       "      <td>1887</td>\n",
       "      <td>20</td>\n",
       "      <td>2.333</td>\n",
       "      <td>0.000</td>\n",
       "      <td>0.000021</td>\n",
       "      <td>0.99998</td>\n",
       "    </tr>\n",
       "    <tr>\n",
       "      <th>3</th>\n",
       "      <td>769911858</td>\n",
       "      <td>Existing Customer</td>\n",
       "      <td>40</td>\n",
       "      <td>F</td>\n",
       "      <td>4</td>\n",
       "      <td>High School</td>\n",
       "      <td>Unknown</td>\n",
       "      <td>Less than $40K</td>\n",
       "      <td>Blue</td>\n",
       "      <td>34</td>\n",
       "      <td>...</td>\n",
       "      <td>3313.0</td>\n",
       "      <td>2517</td>\n",
       "      <td>796.0</td>\n",
       "      <td>1.405</td>\n",
       "      <td>1171</td>\n",
       "      <td>20</td>\n",
       "      <td>2.333</td>\n",
       "      <td>0.760</td>\n",
       "      <td>0.000134</td>\n",
       "      <td>0.99987</td>\n",
       "    </tr>\n",
       "    <tr>\n",
       "      <th>4</th>\n",
       "      <td>709106358</td>\n",
       "      <td>Existing Customer</td>\n",
       "      <td>40</td>\n",
       "      <td>M</td>\n",
       "      <td>3</td>\n",
       "      <td>Uneducated</td>\n",
       "      <td>Married</td>\n",
       "      <td>$60K - $80K</td>\n",
       "      <td>Blue</td>\n",
       "      <td>21</td>\n",
       "      <td>...</td>\n",
       "      <td>4716.0</td>\n",
       "      <td>0</td>\n",
       "      <td>4716.0</td>\n",
       "      <td>2.175</td>\n",
       "      <td>816</td>\n",
       "      <td>28</td>\n",
       "      <td>2.500</td>\n",
       "      <td>0.000</td>\n",
       "      <td>0.000022</td>\n",
       "      <td>0.99998</td>\n",
       "    </tr>\n",
       "  </tbody>\n",
       "</table>\n",
       "<p>5 rows × 23 columns</p>\n",
       "</div>"
      ],
      "text/plain": [
       "   CLIENTNUM     Attrition_Flag  Customer_Age Gender  Dependent_count  \\\n",
       "0  768805383  Existing Customer            45      M                3   \n",
       "1  818770008  Existing Customer            49      F                5   \n",
       "2  713982108  Existing Customer            51      M                3   \n",
       "3  769911858  Existing Customer            40      F                4   \n",
       "4  709106358  Existing Customer            40      M                3   \n",
       "\n",
       "  Education_Level Marital_Status Income_Category Card_Category  \\\n",
       "0     High School        Married     $60K - $80K          Blue   \n",
       "1        Graduate         Single  Less than $40K          Blue   \n",
       "2        Graduate        Married    $80K - $120K          Blue   \n",
       "3     High School        Unknown  Less than $40K          Blue   \n",
       "4      Uneducated        Married     $60K - $80K          Blue   \n",
       "\n",
       "   Months_on_book  ...  Credit_Limit  Total_Revolving_Bal  Avg_Open_To_Buy  \\\n",
       "0              39  ...       12691.0                  777          11914.0   \n",
       "1              44  ...        8256.0                  864           7392.0   \n",
       "2              36  ...        3418.0                    0           3418.0   \n",
       "3              34  ...        3313.0                 2517            796.0   \n",
       "4              21  ...        4716.0                    0           4716.0   \n",
       "\n",
       "   Total_Amt_Chng_Q4_Q1  Total_Trans_Amt  Total_Trans_Ct  Total_Ct_Chng_Q4_Q1  \\\n",
       "0                 1.335             1144              42                1.625   \n",
       "1                 1.541             1291              33                3.714   \n",
       "2                 2.594             1887              20                2.333   \n",
       "3                 1.405             1171              20                2.333   \n",
       "4                 2.175              816              28                2.500   \n",
       "\n",
       "   Avg_Utilization_Ratio  \\\n",
       "0                  0.061   \n",
       "1                  0.105   \n",
       "2                  0.000   \n",
       "3                  0.760   \n",
       "4                  0.000   \n",
       "\n",
       "   Naive_Bayes_Classifier_Attrition_Flag_Card_Category_Contacts_Count_12_mon_Dependent_count_Education_Level_Months_Inactive_12_mon_1  \\\n",
       "0                                           0.000093                                                                                    \n",
       "1                                           0.000057                                                                                    \n",
       "2                                           0.000021                                                                                    \n",
       "3                                           0.000134                                                                                    \n",
       "4                                           0.000022                                                                                    \n",
       "\n",
       "   Naive_Bayes_Classifier_Attrition_Flag_Card_Category_Contacts_Count_12_mon_Dependent_count_Education_Level_Months_Inactive_12_mon_2  \n",
       "0                                            0.99991                                                                                   \n",
       "1                                            0.99994                                                                                   \n",
       "2                                            0.99998                                                                                   \n",
       "3                                            0.99987                                                                                   \n",
       "4                                            0.99998                                                                                   \n",
       "\n",
       "[5 rows x 23 columns]"
      ]
     },
     "execution_count": 2,
     "metadata": {},
     "output_type": "execute_result"
    }
   ],
   "source": [
    "ccdata = pd.read_csv('BankChurners.csv') \n",
    "ccdata.head()"
   ]
  },
  {
   "cell_type": "code",
   "execution_count": 3,
   "id": "495364cd",
   "metadata": {},
   "outputs": [],
   "source": [
    "#run once\n",
    "ccdata.drop(\"CLIENTNUM\",axis=1,inplace=True)\n",
    "ccdata.drop('Naive_Bayes_Classifier_Attrition_Flag_Card_Category_Contacts_Count_12_mon_Dependent_count_Education_Level_Months_Inactive_12_mon_1',axis=1,inplace=True)\n",
    "ccdata.drop('Naive_Bayes_Classifier_Attrition_Flag_Card_Category_Contacts_Count_12_mon_Dependent_count_Education_Level_Months_Inactive_12_mon_2',axis=1,inplace=True)\n",
    "\n",
    "ccdata['Gender'].replace({'M':1,'F':0},inplace=True)\n",
    "ccdata[\"Attrition_Flag\"].replace({'Existing Customer':0,'Attrited Customer':1},inplace=True)\n",
    "\n",
    "#run once\n",
    "#drop_first = True to avoid structural multicollinearity\n",
    "ccdata2 = pd.get_dummies(data=ccdata,columns=['Education_Level','Marital_Status',\"Income_Category\",'Card_Category'],drop_first=True)\n",
    "ccdata2.columns\n",
    "\n",
    "#data multicollinearity prevention\n",
    "ccdata2.drop(['Avg_Open_To_Buy','Customer_Age','Total_Trans_Ct','Months_on_book','Total_Amt_Chng_Q4_Q1'],axis=1,inplace=True)"
   ]
  },
  {
   "cell_type": "code",
   "execution_count": 4,
   "id": "144effa9",
   "metadata": {},
   "outputs": [],
   "source": [
    "X = ccdata2.drop(\"Attrition_Flag\",axis=1)\n",
    "y = ccdata2['Attrition_Flag']\n",
    "\n",
    "from sklearn.model_selection import train_test_split\n",
    "\n",
    "X_train, X_test, y_train, y_test = train_test_split(X,y,test_size=0.3,random_state=1,stratify=y)"
   ]
  },
  {
   "cell_type": "markdown",
   "id": "6583441b",
   "metadata": {},
   "source": [
    "## hyperparameter optimization"
   ]
  },
  {
   "cell_type": "code",
   "execution_count": 5,
   "id": "4c5a057f",
   "metadata": {},
   "outputs": [],
   "source": [
    "raw_dt = DecisionTreeClassifier()"
   ]
  },
  {
   "cell_type": "code",
   "execution_count": 7,
   "id": "8a7a3cba",
   "metadata": {},
   "outputs": [],
   "source": [
    "from sklearn.model_selection import GridSearchCV\n",
    "\n",
    "parameter_grid = [\n",
    "    {\n",
    "        'criterion':['gini','entropy'],\n",
    "        'splitter': ['best'],\n",
    "        'max_depth':np.arange(5,21,1),\n",
    "        'min_samples_leaf':[20,25,30,35,40]\n",
    "    }\n",
    "]\n",
    "\n",
    "clf = GridSearchCV(raw_dt, param_grid = parameter_grid, cv = 5, verbose=True, n_jobs = -1)"
   ]
  },
  {
   "cell_type": "code",
   "execution_count": 8,
   "id": "fd9d1840",
   "metadata": {},
   "outputs": [
    {
     "name": "stdout",
     "output_type": "stream",
     "text": [
      "Fitting 5 folds for each of 160 candidates, totalling 800 fits\n"
     ]
    }
   ],
   "source": [
    "best_clf = clf.fit(X_train,y_train)"
   ]
  },
  {
   "cell_type": "code",
   "execution_count": 9,
   "id": "1bb01b2e",
   "metadata": {},
   "outputs": [],
   "source": [
    "#rawresults\n",
    "rawresults = pd.DataFrame(best_clf.cv_results_)"
   ]
  },
  {
   "cell_type": "code",
   "execution_count": 10,
   "id": "1fe3f220",
   "metadata": {},
   "outputs": [
    {
     "data": {
      "text/plain": [
       "DecisionTreeClassifier(criterion='entropy', max_depth=8, min_samples_leaf=20)"
      ]
     },
     "execution_count": 10,
     "metadata": {},
     "output_type": "execute_result"
    }
   ],
   "source": [
    "best_clf.best_estimator_"
   ]
  },
  {
   "cell_type": "code",
   "execution_count": 11,
   "id": "1dfb1125",
   "metadata": {},
   "outputs": [
    {
     "data": {
      "text/plain": [
       "0.9197235264315143"
      ]
     },
     "execution_count": 11,
     "metadata": {},
     "output_type": "execute_result"
    }
   ],
   "source": [
    "best_clf.best_score_"
   ]
  },
  {
   "cell_type": "markdown",
   "id": "5af46d16",
   "metadata": {},
   "source": [
    "## preliminary testing"
   ]
  },
  {
   "cell_type": "code",
   "execution_count": 5,
   "id": "b915b698",
   "metadata": {},
   "outputs": [
    {
     "name": "stdout",
     "output_type": "stream",
     "text": [
      "decisiontreemodule.py is being imported into another module\n"
     ]
    }
   ],
   "source": [
    "from decisiontreemodule import decision_tree"
   ]
  },
  {
   "cell_type": "code",
   "execution_count": 6,
   "id": "0eea6b42",
   "metadata": {},
   "outputs": [],
   "source": [
    "dt1 = decision_tree(X_train,X_test,y_train,y_test)"
   ]
  },
  {
   "cell_type": "code",
   "execution_count": 7,
   "id": "141652cf",
   "metadata": {},
   "outputs": [
    {
     "name": "stdout",
     "output_type": "stream",
     "text": [
      "accuracy score =  92.53 %\n",
      "recall =  69.88 %\n",
      "precision =  81.0 %\n",
      "f2_score =  71.85 %\n",
      "training accuracy =  93.96 %\n",
      "testing accuracy =  92.53 %\n"
     ]
    }
   ],
   "source": [
    "dt1.KPI_summary()"
   ]
  },
  {
   "cell_type": "code",
   "execution_count": 8,
   "id": "b252c556",
   "metadata": {
    "scrolled": true
   },
   "outputs": [
    {
     "name": "stdout",
     "output_type": "stream",
     "text": [
      "                     Feature_names  Importances    cumsum\n",
      "0                  Total_Trans_Amt     0.476372  0.476372\n",
      "1              Total_Revolving_Bal     0.225610  0.701982\n",
      "2              Total_Ct_Chng_Q4_Q1     0.124578  0.826560\n",
      "3         Total_Relationship_Count     0.118453  0.945014\n",
      "4                     Credit_Limit     0.024972  0.969986\n",
      "5            Avg_Utilization_Ratio     0.011819  0.981805\n",
      "6                  Dependent_count     0.006679  0.988484\n",
      "7                           Gender     0.005117  0.993600\n",
      "8            Contacts_Count_12_mon     0.003115  0.996716\n",
      "9    Education_Level_Post-Graduate     0.002690  0.999406\n",
      "10          Months_Inactive_12_mon     0.000594  1.000000\n",
      "11          Card_Category_Platinum     0.000000  1.000000\n",
      "12      Education_Level_Uneducated     0.000000  1.000000\n",
      "13            Card_Category_Silver     0.000000  1.000000\n",
      "14          Marital_Status_Married     0.000000  1.000000\n",
      "15     Education_Level_High School     0.000000  1.000000\n",
      "16        Education_Level_Graduate     0.000000  1.000000\n",
      "17       Education_Level_Doctorate     0.000000  1.000000\n",
      "18           Marital_Status_Single     0.000000  1.000000\n",
      "19              Card_Category_Gold     0.000000  1.000000\n",
      "20          Marital_Status_Unknown     0.000000  1.000000\n",
      "21     Income_Category_$60K - $80K     0.000000  1.000000\n",
      "22    Income_Category_$80K - $120K     0.000000  1.000000\n",
      "23  Income_Category_Less than $40K     0.000000  1.000000\n",
      "24         Income_Category_Unknown     0.000000  1.000000\n",
      "25     Income_Category_$40K - $60K     0.000000  1.000000\n",
      "26         Education_Level_Unknown     0.000000  1.000000\n"
     ]
    },
    {
     "data": {
      "image/png": "[encoded data removed]",
      "text/plain": [
       "<Figure size 576x432 with 1 Axes>"
      ]
     },
     "metadata": {
      "needs_background": "light"
     },
     "output_type": "display_data"
    },
    {
     "data": {
      "image/png": "[encoded data removed]",
      "text/plain": [
       "<Figure size 576x432 with 1 Axes>"
      ]
     },
     "metadata": {
      "needs_background": "light"
     },
     "output_type": "display_data"
    }
   ],
   "source": [
    "dt1.feature_importance()"
   ]
  },
  {
   "cell_type": "code",
   "execution_count": 9,
   "id": "28092d40",
   "metadata": {},
   "outputs": [
    {
     "data": {
      "text/plain": [
       "0    5949\n",
       "1    5949\n",
       "Name: Attrition_Flag, dtype: int64"
      ]
     },
     "execution_count": 9,
     "metadata": {},
     "output_type": "execute_result"
    }
   ],
   "source": [
    "#SMOTENC uses k-nearest neighbour algo to create synthetic samples \n",
    "#\"Note - SMOTENC takes into consideration categorical and continuous variables\"\n",
    "from imblearn.over_sampling import SMOTE\n",
    "\n",
    "#X= ccdata2.drop('Attrition_Flag',axis='columns')\n",
    "#y= ccdata2['Attrition_Flag']\n",
    "smote = SMOTE(sampling_strategy='minority') \n",
    "#samplingstrat specifies whether to use the minority or majority value for under/over-sampling\n",
    "X_sm, y_sm = smote.fit_resample(X_train,y_train)\n",
    "\n",
    "y_sm.value_counts()\n",
    "#generate train test split first then do resampling only on training set"
   ]
  },
  {
   "cell_type": "code",
   "execution_count": 10,
   "id": "872e397e",
   "metadata": {},
   "outputs": [
    {
     "data": {
      "text/plain": [
       "0    3965\n",
       "1    2379\n",
       "Name: Attrition_Flag, dtype: int64"
      ]
     },
     "execution_count": 10,
     "metadata": {},
     "output_type": "execute_result"
    }
   ],
   "source": [
    "##### With Pipeline Step resampling #####\n",
    "over = BorderlineSMOTE(sampling_strategy=0.4)\n",
    "under = RandomUnderSampler(sampling_strategy=0.6)\n",
    "steps = [('o', over), ('u', under)]\n",
    "\n",
    "pipeline = Pipeline(steps=steps)\n",
    "X_train3, y_train3 = pipeline.fit_resample(X_train,y_train)\n",
    "y_train3.value_counts()"
   ]
  },
  {
   "cell_type": "code",
   "execution_count": 11,
   "id": "b0d7c90f",
   "metadata": {},
   "outputs": [],
   "source": [
    "dt1 = decision_tree(X_train,X_test,y_train,y_test)\n",
    "dt2 = decision_tree(X_sm,X_test,y_sm,y_test)\n",
    "dt3 = decision_tree(X_train3,X_test,y_train3,y_test)"
   ]
  },
  {
   "cell_type": "markdown",
   "id": "11b35383",
   "metadata": {},
   "source": [
    "## post-feature selection"
   ]
  },
  {
   "cell_type": "code",
   "execution_count": 12,
   "id": "b14c0446",
   "metadata": {},
   "outputs": [
    {
     "name": "stdout",
     "output_type": "stream",
     "text": [
      "<class 'pandas.core.frame.DataFrame'>\n",
      "Int64Index: 3039 entries, 7403 to 8523\n",
      "Data columns (total 11 columns):\n",
      " #   Column                         Non-Null Count  Dtype  \n",
      "---  ------                         --------------  -----  \n",
      " 0   Total_Trans_Amt                3039 non-null   int64  \n",
      " 1   Total_Revolving_Bal            3039 non-null   int64  \n",
      " 2   Total_Ct_Chng_Q4_Q1            3039 non-null   float64\n",
      " 3   Total_Relationship_Count       3039 non-null   int64  \n",
      " 4   Credit_Limit                   3039 non-null   float64\n",
      " 5   Avg_Utilization_Ratio          3039 non-null   float64\n",
      " 6   Dependent_count                3039 non-null   int64  \n",
      " 7   Gender                         3039 non-null   int64  \n",
      " 8   Contacts_Count_12_mon          3039 non-null   int64  \n",
      " 9   Education_Level_Post-Graduate  3039 non-null   uint8  \n",
      " 10  Months_Inactive_12_mon         3039 non-null   int64  \n",
      "dtypes: float64(3), int64(7), uint8(1)\n",
      "memory usage: 264.1 KB\n"
     ]
    }
   ],
   "source": [
    "X_train2 = X_train.filter(['Total_Trans_Amt','Total_Revolving_Bal','Total_Ct_Chng_Q4_Q1','Total_Relationship_Count','Credit_Limit','Avg_Utilization_Ratio','Dependent_count','Gender','Contacts_Count_12_mon','Education_Level_Post-Graduate','Months_Inactive_12_mon'],axis=1)\n",
    "X_test2 = X_test.filter(['Total_Trans_Amt','Total_Revolving_Bal','Total_Ct_Chng_Q4_Q1','Total_Relationship_Count','Credit_Limit','Avg_Utilization_Ratio','Dependent_count','Gender','Contacts_Count_12_mon','Education_Level_Post-Graduate','Months_Inactive_12_mon'],axis=1)\n",
    "X_test2.info()"
   ]
  },
  {
   "cell_type": "code",
   "execution_count": 13,
   "id": "535bd7e2",
   "metadata": {},
   "outputs": [],
   "source": [
    "dt4 = (X_train2,X_test2,y_train,y_test)"
   ]
  },
  {
   "cell_type": "code",
   "execution_count": 14,
   "id": "01bc1684",
   "metadata": {},
   "outputs": [
    {
     "data": {
      "text/plain": [
       "0    3965\n",
       "1    2379\n",
       "Name: Attrition_Flag, dtype: int64"
      ]
     },
     "execution_count": 14,
     "metadata": {},
     "output_type": "execute_result"
    }
   ],
   "source": [
    "#SMOTENC uses k-nearest neighbour algo to create synthetic samples \n",
    "#\"Note - SMOTENC takes into consideration categorical and continuous variables\"\n",
    "from imblearn.over_sampling import SMOTE\n",
    "\n",
    "#X= ccdata2.drop('Attrition_Flag',axis='columns')\n",
    "#y= ccdata2['Attrition_Flag']\n",
    "smote = SMOTE(sampling_strategy='minority') \n",
    "#samplingstrat specifies whether to use the minority or majority value for under/over-sampling\n",
    "X_sm2, y_sm2 = smote.fit_resample(X_train2,y_train)\n",
    "\n",
    "y_sm2.value_counts()\n",
    "#generate train test split first then do resampling only on training set\n",
    "\n",
    "##### With Pipeline Step resampling #####\n",
    "over = BorderlineSMOTE(sampling_strategy=0.4)\n",
    "under = RandomUnderSampler(sampling_strategy=0.6)\n",
    "steps = [('o', over), ('u', under)]\n",
    "\n",
    "pipeline = Pipeline(steps=steps)\n",
    "X_train4, y_train4 = pipeline.fit_resample(X_train2,y_train)\n",
    "y_train4.value_counts()"
   ]
  },
  {
   "cell_type": "code",
   "execution_count": 15,
   "id": "50b45a7d",
   "metadata": {},
   "outputs": [
    {
     "name": "stdout",
     "output_type": "stream",
     "text": [
      "dt1:  0.7184997892962495 \n",
      "\n",
      "dt2:  0.7945154019534184 \n",
      "\n",
      "dt3:  0.8140834575260804 \n",
      "\n",
      "dt4:  0.7184997892962495 \n",
      "\n",
      "dt5:  0.7674050632911393 \n",
      "\n",
      "dt6:  0.7625444488344528 \n",
      "\n"
     ]
    },
    {
     "data": {
      "text/plain": [
       "[None, None, None, None, None, None]"
      ]
     },
     "execution_count": 15,
     "metadata": {},
     "output_type": "execute_result"
    }
   ],
   "source": [
    "dt1 = decision_tree(X_train,X_test,y_train,y_test)\n",
    "dt2 = decision_tree(X_sm,X_test,y_sm,y_test)\n",
    "dt3 = decision_tree(X_train3,X_test,y_train3,y_test)\n",
    "dt4 = decision_tree(X_train2,X_test2,y_train,y_test)\n",
    "dt5 = decision_tree(X_sm2,X_test2,y_sm2,y_test)\n",
    "dt6 = decision_tree(X_train4,X_test2, y_train4,y_test)\n",
    "\n",
    "ls1 = [dt1,dt2,dt3,dt4,dt5,dt6]\n",
    "\n",
    "[print('dt{}: '.format(i+1),x.f2_score,'\\n') for i,x in enumerate(ls1)]"
   ]
  },
  {
   "cell_type": "code",
   "execution_count": null,
   "id": "4defcf9c",
   "metadata": {},
   "outputs": [],
   "source": []
  },
  {
   "cell_type": "markdown",
   "id": "d5e31737",
   "metadata": {},
   "source": [
    "## class weight rebalanced"
   ]
  },
  {
   "cell_type": "code",
   "execution_count": 16,
   "id": "85cadd2e",
   "metadata": {},
   "outputs": [],
   "source": [
    "from decisiontreemodule import decision_tree_rebalanced"
   ]
  },
  {
   "cell_type": "code",
   "execution_count": 17,
   "id": "0ff2382b",
   "metadata": {},
   "outputs": [],
   "source": [
    "dt7 = decision_tree_rebalanced(X_train,X_test,y_train,y_test)\n",
    "dt8 = decision_tree_rebalanced(X_sm,X_test,y_sm,y_test)\n",
    "dt9 = decision_tree_rebalanced(X_train3,X_test,y_train3,y_test)\n",
    "dt10 = decision_tree_rebalanced(X_train2,X_test2,y_train,y_test)\n",
    "dt11 = decision_tree_rebalanced(X_sm2,X_test2,y_sm2,y_test)\n",
    "dt12 = decision_tree_rebalanced(X_train4,X_test2, y_train4,y_test)"
   ]
  },
  {
   "cell_type": "code",
   "execution_count": 18,
   "id": "202ad4a6",
   "metadata": {},
   "outputs": [
    {
     "name": "stdout",
     "output_type": "stream",
     "text": [
      "dt8 : 0.8261682242990654 \n",
      "\n",
      "dt9 : 0.7945154019534184 \n",
      "\n",
      "dt10 : 0.7963302752293577 \n",
      "\n",
      "dt11 : 0.8261682242990654 \n",
      "\n",
      "dt12 : 0.7674050632911393 \n",
      "\n",
      "dt13 : 0.7954964931709119 \n",
      "\n"
     ]
    },
    {
     "data": {
      "text/plain": [
       "[None, None, None, None, None, None]"
      ]
     },
     "execution_count": 18,
     "metadata": {},
     "output_type": "execute_result"
    }
   ],
   "source": [
    "ls2 = [dt7,dt8,dt9,dt10,dt11,dt12]\n",
    "\n",
    "[print('dt{} :'.format(i+8),x.f2_score,'\\n') for i,x in enumerate(ls2)]"
   ]
  },
  {
   "cell_type": "code",
   "execution_count": null,
   "id": "d75f74d1",
   "metadata": {},
   "outputs": [],
   "source": []
  }
 ],
 "metadata": {
  "kernelspec": {
   "display_name": "Python 3",
   "language": "python",
   "name": "python3"
  },
  "language_info": {
   "codemirror_mode": {
    "name": "ipython",
    "version": 3
   },
   "file_extension": ".py",
   "mimetype": "text/x-python",
   "name": "python",
   "nbconvert_exporter": "python",
   "pygments_lexer": "ipython3",
   "version": "3.8.8"
  }
 },
 "nbformat": 4,
 "nbformat_minor": 5
}
