{
 "cells": [
  {
   "cell_type": "code",
   "execution_count": 1,
   "metadata": {},
   "outputs": [],
   "source": [
    "import pandas as pd\n",
    "import numpy as np\n",
    "import matplotlib.pyplot as plt\n",
    "import seaborn as sns\n",
    "%matplotlib inline\n",
    "\n",
    "from sklearn.linear_model import LogisticRegression #log regression\n",
    "\n",
    "from sklearn.metrics import classification_report,confusion_matrix\n",
    "from sklearn.metrics import plot_confusion_matrix\n",
    "from sklearn.metrics import accuracy_score,recall_score,precision_score, fbeta_score\n",
    "from sklearn.metrics import log_loss\n",
    "from sklearn import metrics\n",
    "\n",
    "from sklearn.pipeline import Pipeline\n",
    "from imblearn.under_sampling import RandomUnderSampler\n",
    "from imblearn.pipeline import Pipeline\n",
    "from imblearn.over_sampling import BorderlineSMOTE\n",
    "from imblearn.over_sampling import SMOTENC\n",
    "\n",
    "from IPython.display import Image  \n",
    "from six import StringIO  \n",
    "import graphviz\n",
    "import pydot "
   ]
  },
  {
   "cell_type": "code",
   "execution_count": 2,
   "metadata": {},
   "outputs": [
    {
     "data": {
      "text/html": [
       "<div>\n",
       "<style scoped>\n",
       "    .dataframe tbody tr th:only-of-type {\n",
       "        vertical-align: middle;\n",
       "    }\n",
       "\n",
       "    .dataframe tbody tr th {\n",
       "        vertical-align: top;\n",
       "    }\n",
       "\n",
       "    .dataframe thead th {\n",
       "        text-align: right;\n",
       "    }\n",
       "</style>\n",
       "<table border=\"1\" class=\"dataframe\">\n",
       "  <thead>\n",
       "    <tr style=\"text-align: right;\">\n",
       "      <th></th>\n",
       "      <th>CLIENTNUM</th>\n",
       "      <th>Attrition_Flag</th>\n",
       "      <th>Customer_Age</th>\n",
       "      <th>Gender</th>\n",
       "      <th>Dependent_count</th>\n",
       "      <th>Education_Level</th>\n",
       "      <th>Marital_Status</th>\n",
       "      <th>Income_Category</th>\n",
       "      <th>Card_Category</th>\n",
       "      <th>Months_on_book</th>\n",
       "      <th>...</th>\n",
       "      <th>Credit_Limit</th>\n",
       "      <th>Total_Revolving_Bal</th>\n",
       "      <th>Avg_Open_To_Buy</th>\n",
       "      <th>Total_Amt_Chng_Q4_Q1</th>\n",
       "      <th>Total_Trans_Amt</th>\n",
       "      <th>Total_Trans_Ct</th>\n",
       "      <th>Total_Ct_Chng_Q4_Q1</th>\n",
       "      <th>Avg_Utilization_Ratio</th>\n",
       "      <th>Naive_Bayes_Classifier_Attrition_Flag_Card_Category_Contacts_Count_12_mon_Dependent_count_Education_Level_Months_Inactive_12_mon_1</th>\n",
       "      <th>Naive_Bayes_Classifier_Attrition_Flag_Card_Category_Contacts_Count_12_mon_Dependent_count_Education_Level_Months_Inactive_12_mon_2</th>\n",
       "    </tr>\n",
       "  </thead>\n",
       "  <tbody>\n",
       "    <tr>\n",
       "      <th>0</th>\n",
       "      <td>768805383</td>\n",
       "      <td>Existing Customer</td>\n",
       "      <td>45</td>\n",
       "      <td>M</td>\n",
       "      <td>3</td>\n",
       "      <td>High School</td>\n",
       "      <td>Married</td>\n",
       "      <td>$60K - $80K</td>\n",
       "      <td>Blue</td>\n",
       "      <td>39</td>\n",
       "      <td>...</td>\n",
       "      <td>12691.0</td>\n",
       "      <td>777</td>\n",
       "      <td>11914.0</td>\n",
       "      <td>1.335</td>\n",
       "      <td>1144</td>\n",
       "      <td>42</td>\n",
       "      <td>1.625</td>\n",
       "      <td>0.061</td>\n",
       "      <td>0.000093</td>\n",
       "      <td>0.99991</td>\n",
       "    </tr>\n",
       "    <tr>\n",
       "      <th>1</th>\n",
       "      <td>818770008</td>\n",
       "      <td>Existing Customer</td>\n",
       "      <td>49</td>\n",
       "      <td>F</td>\n",
       "      <td>5</td>\n",
       "      <td>Graduate</td>\n",
       "      <td>Single</td>\n",
       "      <td>Less than $40K</td>\n",
       "      <td>Blue</td>\n",
       "      <td>44</td>\n",
       "      <td>...</td>\n",
       "      <td>8256.0</td>\n",
       "      <td>864</td>\n",
       "      <td>7392.0</td>\n",
       "      <td>1.541</td>\n",
       "      <td>1291</td>\n",
       "      <td>33</td>\n",
       "      <td>3.714</td>\n",
       "      <td>0.105</td>\n",
       "      <td>0.000057</td>\n",
       "      <td>0.99994</td>\n",
       "    </tr>\n",
       "    <tr>\n",
       "      <th>2</th>\n",
       "      <td>713982108</td>\n",
       "      <td>Existing Customer</td>\n",
       "      <td>51</td>\n",
       "      <td>M</td>\n",
       "      <td>3</td>\n",
       "      <td>Graduate</td>\n",
       "      <td>Married</td>\n",
       "      <td>$80K - $120K</td>\n",
       "      <td>Blue</td>\n",
       "      <td>36</td>\n",
       "      <td>...</td>\n",
       "      <td>3418.0</td>\n",
       "      <td>0</td>\n",
       "      <td>3418.0</td>\n",
       "      <td>2.594</td>\n",
       "      <td>1887</td>\n",
       "      <td>20</td>\n",
       "      <td>2.333</td>\n",
       "      <td>0.000</td>\n",
       "      <td>0.000021</td>\n",
       "      <td>0.99998</td>\n",
       "    </tr>\n",
       "    <tr>\n",
       "      <th>3</th>\n",
       "      <td>769911858</td>\n",
       "      <td>Existing Customer</td>\n",
       "      <td>40</td>\n",
       "      <td>F</td>\n",
       "      <td>4</td>\n",
       "      <td>High School</td>\n",
       "      <td>Unknown</td>\n",
       "      <td>Less than $40K</td>\n",
       "      <td>Blue</td>\n",
       "      <td>34</td>\n",
       "      <td>...</td>\n",
       "      <td>3313.0</td>\n",
       "      <td>2517</td>\n",
       "      <td>796.0</td>\n",
       "      <td>1.405</td>\n",
       "      <td>1171</td>\n",
       "      <td>20</td>\n",
       "      <td>2.333</td>\n",
       "      <td>0.760</td>\n",
       "      <td>0.000134</td>\n",
       "      <td>0.99987</td>\n",
       "    </tr>\n",
       "    <tr>\n",
       "      <th>4</th>\n",
       "      <td>709106358</td>\n",
       "      <td>Existing Customer</td>\n",
       "      <td>40</td>\n",
       "      <td>M</td>\n",
       "      <td>3</td>\n",
       "      <td>Uneducated</td>\n",
       "      <td>Married</td>\n",
       "      <td>$60K - $80K</td>\n",
       "      <td>Blue</td>\n",
       "      <td>21</td>\n",
       "      <td>...</td>\n",
       "      <td>4716.0</td>\n",
       "      <td>0</td>\n",
       "      <td>4716.0</td>\n",
       "      <td>2.175</td>\n",
       "      <td>816</td>\n",
       "      <td>28</td>\n",
       "      <td>2.500</td>\n",
       "      <td>0.000</td>\n",
       "      <td>0.000022</td>\n",
       "      <td>0.99998</td>\n",
       "    </tr>\n",
       "  </tbody>\n",
       "</table>\n",
       "<p>5 rows × 23 columns</p>\n",
       "</div>"
      ],
      "text/plain": [
       "   CLIENTNUM     Attrition_Flag  Customer_Age Gender  Dependent_count  \\\n",
       "0  768805383  Existing Customer            45      M                3   \n",
       "1  818770008  Existing Customer            49      F                5   \n",
       "2  713982108  Existing Customer            51      M                3   \n",
       "3  769911858  Existing Customer            40      F                4   \n",
       "4  709106358  Existing Customer            40      M                3   \n",
       "\n",
       "  Education_Level Marital_Status Income_Category Card_Category  \\\n",
       "0     High School        Married     $60K - $80K          Blue   \n",
       "1        Graduate         Single  Less than $40K          Blue   \n",
       "2        Graduate        Married    $80K - $120K          Blue   \n",
       "3     High School        Unknown  Less than $40K          Blue   \n",
       "4      Uneducated        Married     $60K - $80K          Blue   \n",
       "\n",
       "   Months_on_book  ...  Credit_Limit  Total_Revolving_Bal  Avg_Open_To_Buy  \\\n",
       "0              39  ...       12691.0                  777          11914.0   \n",
       "1              44  ...        8256.0                  864           7392.0   \n",
       "2              36  ...        3418.0                    0           3418.0   \n",
       "3              34  ...        3313.0                 2517            796.0   \n",
       "4              21  ...        4716.0                    0           4716.0   \n",
       "\n",
       "   Total_Amt_Chng_Q4_Q1  Total_Trans_Amt  Total_Trans_Ct  Total_Ct_Chng_Q4_Q1  \\\n",
       "0                 1.335             1144              42                1.625   \n",
       "1                 1.541             1291              33                3.714   \n",
       "2                 2.594             1887              20                2.333   \n",
       "3                 1.405             1171              20                2.333   \n",
       "4                 2.175              816              28                2.500   \n",
       "\n",
       "   Avg_Utilization_Ratio  \\\n",
       "0                  0.061   \n",
       "1                  0.105   \n",
       "2                  0.000   \n",
       "3                  0.760   \n",
       "4                  0.000   \n",
       "\n",
       "   Naive_Bayes_Classifier_Attrition_Flag_Card_Category_Contacts_Count_12_mon_Dependent_count_Education_Level_Months_Inactive_12_mon_1  \\\n",
       "0                                           0.000093                                                                                    \n",
       "1                                           0.000057                                                                                    \n",
       "2                                           0.000021                                                                                    \n",
       "3                                           0.000134                                                                                    \n",
       "4                                           0.000022                                                                                    \n",
       "\n",
       "   Naive_Bayes_Classifier_Attrition_Flag_Card_Category_Contacts_Count_12_mon_Dependent_count_Education_Level_Months_Inactive_12_mon_2  \n",
       "0                                            0.99991                                                                                   \n",
       "1                                            0.99994                                                                                   \n",
       "2                                            0.99998                                                                                   \n",
       "3                                            0.99987                                                                                   \n",
       "4                                            0.99998                                                                                   \n",
       "\n",
       "[5 rows x 23 columns]"
      ]
     },
     "execution_count": 2,
     "metadata": {},
     "output_type": "execute_result"
    }
   ],
   "source": [
    "ccdata = pd.read_csv('BankChurners.csv')\n",
    "ccdata.head()"
   ]
  },
  {
   "cell_type": "code",
   "execution_count": 3,
   "metadata": {},
   "outputs": [
    {
     "data": {
      "text/plain": [
       "Index(['Attrition_Flag', 'Customer_Age', 'Gender', 'Dependent_count',\n",
       "       'Months_on_book', 'Total_Relationship_Count', 'Months_Inactive_12_mon',\n",
       "       'Contacts_Count_12_mon', 'Credit_Limit', 'Total_Revolving_Bal',\n",
       "       'Avg_Open_To_Buy', 'Total_Amt_Chng_Q4_Q1', 'Total_Trans_Amt',\n",
       "       'Total_Trans_Ct', 'Total_Ct_Chng_Q4_Q1', 'Avg_Utilization_Ratio',\n",
       "       'Education_Level_Doctorate', 'Education_Level_Graduate',\n",
       "       'Education_Level_High School', 'Education_Level_Post-Graduate',\n",
       "       'Education_Level_Uneducated', 'Education_Level_Unknown',\n",
       "       'Marital_Status_Married', 'Marital_Status_Single',\n",
       "       'Marital_Status_Unknown', 'Income_Category_$40K - $60K',\n",
       "       'Income_Category_$60K - $80K', 'Income_Category_$80K - $120K',\n",
       "       'Income_Category_Less than $40K', 'Income_Category_Unknown',\n",
       "       'Card_Category_Gold', 'Card_Category_Platinum', 'Card_Category_Silver'],\n",
       "      dtype='object')"
      ]
     },
     "execution_count": 3,
     "metadata": {},
     "output_type": "execute_result"
    }
   ],
   "source": [
    "#run once\n",
    "ccdata.drop(\"CLIENTNUM\",axis=1,inplace=True)\n",
    "ccdata.drop('Naive_Bayes_Classifier_Attrition_Flag_Card_Category_Contacts_Count_12_mon_Dependent_count_Education_Level_Months_Inactive_12_mon_1',axis=1,inplace=True)\n",
    "ccdata.drop('Naive_Bayes_Classifier_Attrition_Flag_Card_Category_Contacts_Count_12_mon_Dependent_count_Education_Level_Months_Inactive_12_mon_2',axis=1,inplace=True)\n",
    "#run once\n",
    "ccdata['Gender'].replace({'M':1,'F':0},inplace=True)\n",
    "ccdata[\"Attrition_Flag\"].replace({'Existing Customer':0,'Attrited Customer':1},inplace=True)\n",
    "#run once\n",
    "#drop_first = True to avoid structural multicollinearity\n",
    "ccdata2 = pd.get_dummies(data=ccdata,columns=['Education_Level','Marital_Status',\"Income_Category\",'Card_Category'],drop_first=True)\n",
    "ccdata2.columns"
   ]
  },
  {
   "cell_type": "code",
   "execution_count": 4,
   "metadata": {
    "scrolled": true
   },
   "outputs": [
    {
     "data": {
      "text/plain": [
       "['Customer_Age',\n",
       " 'Gender',\n",
       " 'Dependent_count',\n",
       " 'Education_Level',\n",
       " 'Marital_Status',\n",
       " 'Income_Category',\n",
       " 'Card_Category',\n",
       " 'Months_on_book',\n",
       " 'Total_Relationship_Count',\n",
       " 'Months_Inactive_12_mon',\n",
       " 'Contacts_Count_12_mon',\n",
       " 'Credit_Limit',\n",
       " 'Total_Revolving_Bal',\n",
       " 'Avg_Open_To_Buy',\n",
       " 'Total_Amt_Chng_Q4_Q1',\n",
       " 'Total_Trans_Amt',\n",
       " 'Total_Trans_Ct',\n",
       " 'Total_Ct_Chng_Q4_Q1',\n",
       " 'Avg_Utilization_Ratio']"
      ]
     },
     "execution_count": 4,
     "metadata": {},
     "output_type": "execute_result"
    }
   ],
   "source": [
    "features = list(ccdata.columns[1:])\n",
    "features"
   ]
  },
  {
   "cell_type": "code",
   "execution_count": 5,
   "metadata": {},
   "outputs": [],
   "source": [
    "from statsmodels.stats.outliers_influence import variance_inflation_factor \n",
    "\n",
    "def vif_func(dataset,dependent_var,threshold,vif):\n",
    "    independent_vars = dataset.drop(dependent_var, axis=1)\n",
    "    vif_data = pd.DataFrame()\n",
    "    vif_data['features'] = independent_vars.columns\n",
    "\n",
    "    vif_data[\"VIF\"] = [variance_inflation_factor(independent_vars.values, i) \n",
    "                        for i in range(len(independent_vars.columns))] \n",
    "    \n",
    "    vd = vif_data.sort_values(by='VIF',ascending=False)\n",
    "    print(vd)"
   ]
  },
  {
   "cell_type": "code",
   "execution_count": 6,
   "metadata": {
    "scrolled": true
   },
   "outputs": [
    {
     "name": "stderr",
     "output_type": "stream",
     "text": [
      "C:\\Users\\user\\anaconda3\\lib\\site-packages\\statsmodels\\stats\\outliers_influence.py:193: RuntimeWarning: divide by zero encountered in double_scalars\n",
      "  vif = 1. / (1. - r_squared_i)\n"
     ]
    },
    {
     "name": "stdout",
     "output_type": "stream",
     "text": [
      "                          features        VIF\n",
      "9                  Avg_Open_To_Buy        inf\n",
      "7                     Credit_Limit        inf\n",
      "8              Total_Revolving_Bal        inf\n",
      "0                     Customer_Age  81.150133\n",
      "3                   Months_on_book  56.495249\n",
      "12                  Total_Trans_Ct  24.593854\n",
      "10            Total_Amt_Chng_Q4_Q1  14.602178\n",
      "13             Total_Ct_Chng_Q4_Q1  11.942046\n",
      "27  Income_Category_Less than $40K   9.041355\n",
      "11                 Total_Trans_Amt   8.779247\n",
      "4         Total_Relationship_Count   7.762263\n",
      "21          Marital_Status_Married   6.820507\n",
      "5           Months_Inactive_12_mon   6.229469\n",
      "14           Avg_Utilization_Ratio   5.966408\n",
      "22           Marital_Status_Single   5.895901\n",
      "1                           Gender   5.828726\n",
      "6            Contacts_Count_12_mon   5.815430\n",
      "2                  Dependent_count   4.178267\n",
      "24     Income_Category_$40K - $60K   4.030773\n",
      "16        Education_Level_Graduate   3.927042\n",
      "28         Income_Category_Unknown   3.343359\n",
      "26    Income_Category_$80K - $120K   2.907812\n",
      "25     Income_Category_$60K - $80K   2.897530\n",
      "17     Education_Level_High School   2.881248\n",
      "20         Education_Level_Unknown   2.418577\n",
      "19      Education_Level_Uneducated   2.394568\n",
      "23          Marital_Status_Unknown   1.928560\n",
      "18   Education_Level_Post-Graduate   1.483710\n",
      "31            Card_Category_Silver   1.469324\n",
      "15       Education_Level_Doctorate   1.421252\n",
      "29              Card_Category_Gold   1.132900\n",
      "30          Card_Category_Platinum   1.030052\n"
     ]
    }
   ],
   "source": [
    "vif_func(ccdata2,'Attrition_Flag',10,variance_inflation_factor)"
   ]
  },
  {
   "cell_type": "code",
   "execution_count": 7,
   "metadata": {},
   "outputs": [],
   "source": [
    "ccdata2.drop(['Avg_Open_To_Buy','Credit_Limit','Total_Revolving_Bal','Customer_Age'],axis=1,inplace=True)"
   ]
  },
  {
   "cell_type": "code",
   "execution_count": 8,
   "metadata": {
    "scrolled": true
   },
   "outputs": [
    {
     "name": "stdout",
     "output_type": "stream",
     "text": [
      "                          features        VIF\n",
      "8                   Total_Trans_Ct  24.322031\n",
      "2                   Months_on_book  17.310352\n",
      "6             Total_Amt_Chng_Q4_Q1  14.488463\n",
      "9              Total_Ct_Chng_Q4_Q1  11.859837\n",
      "7                  Total_Trans_Amt   8.660171\n",
      "23  Income_Category_Less than $40K   8.106153\n",
      "3         Total_Relationship_Count   7.688292\n",
      "17          Marital_Status_Married   6.664835\n",
      "4           Months_Inactive_12_mon   6.189771\n",
      "18           Marital_Status_Single   5.780165\n",
      "5            Contacts_Count_12_mon   5.758187\n",
      "0                           Gender   5.673033\n",
      "1                  Dependent_count   4.132927\n",
      "12        Education_Level_Graduate   3.879802\n",
      "20     Income_Category_$40K - $60K   3.590206\n",
      "24         Income_Category_Unknown   3.221451\n",
      "22    Income_Category_$80K - $120K   2.876901\n",
      "13     Education_Level_High School   2.849573\n",
      "21     Income_Category_$60K - $80K   2.721467\n",
      "10           Avg_Utilization_Ratio   2.395049\n",
      "16         Education_Level_Unknown   2.390843\n",
      "15      Education_Level_Uneducated   2.366304\n",
      "19          Marital_Status_Unknown   1.907390\n",
      "14   Education_Level_Post-Graduate   1.475901\n",
      "11       Education_Level_Doctorate   1.412823\n",
      "27            Card_Category_Silver   1.127408\n",
      "25              Card_Category_Gold   1.036048\n",
      "26          Card_Category_Platinum   1.010383\n"
     ]
    }
   ],
   "source": [
    "vif_func(ccdata2,'Attrition_Flag',10,variance_inflation_factor)"
   ]
  },
  {
   "cell_type": "code",
   "execution_count": 9,
   "metadata": {},
   "outputs": [],
   "source": [
    "ccdata2.drop(['Total_Trans_Ct','Months_on_book'],axis=1,inplace=True)"
   ]
  },
  {
   "cell_type": "code",
   "execution_count": 10,
   "metadata": {
    "scrolled": true
   },
   "outputs": [
    {
     "name": "stdout",
     "output_type": "stream",
     "text": [
      "                          features        VIF\n",
      "5             Total_Amt_Chng_Q4_Q1  14.398131\n",
      "7              Total_Ct_Chng_Q4_Q1  11.584994\n",
      "21  Income_Category_Less than $40K   7.536344\n",
      "2         Total_Relationship_Count   7.402028\n",
      "15          Marital_Status_Married   6.374518\n",
      "3           Months_Inactive_12_mon   5.952799\n",
      "4            Contacts_Count_12_mon   5.692643\n",
      "0                           Gender   5.518773\n",
      "16           Marital_Status_Single   5.502146\n",
      "1                  Dependent_count   4.049303\n",
      "10        Education_Level_Graduate   3.792784\n",
      "18     Income_Category_$40K - $60K   3.392438\n",
      "6                  Total_Trans_Amt   3.077873\n",
      "22         Income_Category_Unknown   3.024343\n",
      "20    Income_Category_$80K - $120K   2.808653\n",
      "11     Education_Level_High School   2.792867\n",
      "19     Income_Category_$60K - $80K   2.665325\n",
      "8            Avg_Utilization_Ratio   2.373548\n",
      "14         Education_Level_Unknown   2.348603\n",
      "13      Education_Level_Uneducated   2.323410\n",
      "17          Marital_Status_Unknown   1.868402\n",
      "12   Education_Level_Post-Graduate   1.465129\n",
      "9        Education_Level_Doctorate   1.392306\n",
      "25            Card_Category_Silver   1.127186\n",
      "23              Card_Category_Gold   1.036019\n",
      "24          Card_Category_Platinum   1.010314\n"
     ]
    }
   ],
   "source": [
    "vif_func(ccdata2,'Attrition_Flag',10,variance_inflation_factor)"
   ]
  },
  {
   "cell_type": "code",
   "execution_count": 11,
   "metadata": {},
   "outputs": [],
   "source": [
    "ccdata2.drop(['Total_Amt_Chng_Q4_Q1'],axis=1,inplace=True)"
   ]
  },
  {
   "cell_type": "code",
   "execution_count": 12,
   "metadata": {
    "scrolled": true
   },
   "outputs": [
    {
     "name": "stdout",
     "output_type": "stream",
     "text": [
      "                          features       VIF\n",
      "6              Total_Ct_Chng_Q4_Q1  9.313788\n",
      "20  Income_Category_Less than $40K  7.342106\n",
      "2         Total_Relationship_Count  7.287914\n",
      "14          Marital_Status_Married  6.285718\n",
      "3           Months_Inactive_12_mon  5.935362\n",
      "4            Contacts_Count_12_mon  5.653085\n",
      "15           Marital_Status_Single  5.461171\n",
      "0                           Gender  5.425596\n",
      "1                  Dependent_count  4.046025\n",
      "9         Education_Level_Graduate  3.776571\n",
      "17     Income_Category_$40K - $60K  3.322008\n",
      "5                  Total_Trans_Amt  3.055020\n",
      "21         Income_Category_Unknown  2.948997\n",
      "19    Income_Category_$80K - $120K  2.783117\n",
      "10     Education_Level_High School  2.780470\n",
      "18     Income_Category_$60K - $80K  2.641119\n",
      "7            Avg_Utilization_Ratio  2.371177\n",
      "13         Education_Level_Unknown  2.338661\n",
      "12      Education_Level_Uneducated  2.315148\n",
      "16          Marital_Status_Unknown  1.861229\n",
      "11   Education_Level_Post-Graduate  1.460931\n",
      "8        Education_Level_Doctorate  1.390171\n",
      "24            Card_Category_Silver  1.126991\n",
      "22              Card_Category_Gold  1.035823\n",
      "23          Card_Category_Platinum  1.010173\n"
     ]
    }
   ],
   "source": [
    "vif_func(ccdata2,'Attrition_Flag',10,variance_inflation_factor)"
   ]
  },
  {
   "cell_type": "code",
   "execution_count": 13,
   "metadata": {
    "scrolled": true
   },
   "outputs": [
    {
     "name": "stdout",
     "output_type": "stream",
     "text": [
      "<class 'pandas.core.frame.DataFrame'>\n",
      "RangeIndex: 10127 entries, 0 to 10126\n",
      "Data columns (total 26 columns):\n",
      " #   Column                          Non-Null Count  Dtype  \n",
      "---  ------                          --------------  -----  \n",
      " 0   Attrition_Flag                  10127 non-null  int64  \n",
      " 1   Gender                          10127 non-null  int64  \n",
      " 2   Dependent_count                 10127 non-null  int64  \n",
      " 3   Total_Relationship_Count        10127 non-null  int64  \n",
      " 4   Months_Inactive_12_mon          10127 non-null  int64  \n",
      " 5   Contacts_Count_12_mon           10127 non-null  int64  \n",
      " 6   Total_Trans_Amt                 10127 non-null  int64  \n",
      " 7   Total_Ct_Chng_Q4_Q1             10127 non-null  float64\n",
      " 8   Avg_Utilization_Ratio           10127 non-null  float64\n",
      " 9   Education_Level_Doctorate       10127 non-null  uint8  \n",
      " 10  Education_Level_Graduate        10127 non-null  uint8  \n",
      " 11  Education_Level_High School     10127 non-null  uint8  \n",
      " 12  Education_Level_Post-Graduate   10127 non-null  uint8  \n",
      " 13  Education_Level_Uneducated      10127 non-null  uint8  \n",
      " 14  Education_Level_Unknown         10127 non-null  uint8  \n",
      " 15  Marital_Status_Married          10127 non-null  uint8  \n",
      " 16  Marital_Status_Single           10127 non-null  uint8  \n",
      " 17  Marital_Status_Unknown          10127 non-null  uint8  \n",
      " 18  Income_Category_$40K - $60K     10127 non-null  uint8  \n",
      " 19  Income_Category_$60K - $80K     10127 non-null  uint8  \n",
      " 20  Income_Category_$80K - $120K    10127 non-null  uint8  \n",
      " 21  Income_Category_Less than $40K  10127 non-null  uint8  \n",
      " 22  Income_Category_Unknown         10127 non-null  uint8  \n",
      " 23  Card_Category_Gold              10127 non-null  uint8  \n",
      " 24  Card_Category_Platinum          10127 non-null  uint8  \n",
      " 25  Card_Category_Silver            10127 non-null  uint8  \n",
      "dtypes: float64(2), int64(7), uint8(17)\n",
      "memory usage: 880.3 KB\n"
     ]
    }
   ],
   "source": [
    "ccdata2.info()"
   ]
  },
  {
   "cell_type": "markdown",
   "metadata": {},
   "source": [
    "## modelling"
   ]
  },
  {
   "cell_type": "code",
   "execution_count": 14,
   "metadata": {},
   "outputs": [],
   "source": [
    "X = ccdata2.drop(\"Attrition_Flag\",axis=1)\n",
    "y = ccdata2['Attrition_Flag']"
   ]
  },
  {
   "cell_type": "code",
   "execution_count": 15,
   "metadata": {},
   "outputs": [],
   "source": [
    "import statsmodels.api as sm\n",
    "from sklearn.model_selection import train_test_split\n",
    "\n",
    "X_train, X_test, y_train, y_test = train_test_split(X,y,test_size=0.3,random_state=1,stratify=y)"
   ]
  },
  {
   "cell_type": "code",
   "execution_count": 16,
   "metadata": {},
   "outputs": [
    {
     "name": "stdout",
     "output_type": "stream",
     "text": [
      "logitmodule.py is being imported into another module\n"
     ]
    }
   ],
   "source": [
    "from logitmodule import stats_logit"
   ]
  },
  {
   "cell_type": "code",
   "execution_count": 17,
   "metadata": {},
   "outputs": [
    {
     "name": "stdout",
     "output_type": "stream",
     "text": [
      "Optimization terminated successfully.\n",
      "         Current function value: 0.314552\n",
      "         Iterations 7\n"
     ]
    }
   ],
   "source": [
    "lgt1 = stats_logit(X_train,X_test,y_train,y_test)"
   ]
  },
  {
   "cell_type": "code",
   "execution_count": 18,
   "metadata": {
    "scrolled": true
   },
   "outputs": [
    {
     "name": "stdout",
     "output_type": "stream",
     "text": [
      "              precision    recall  f1-score   support\n",
      "\n",
      "           0       0.89      0.98      0.93      2551\n",
      "           1       0.76      0.36      0.49       488\n",
      "\n",
      "    accuracy                           0.88      3039\n",
      "   macro avg       0.82      0.67      0.71      3039\n",
      "weighted avg       0.87      0.88      0.86      3039\n",
      "\n",
      "Confusion Matrix\n",
      " [[2495   56]\n",
      " [ 312  176]]\n",
      "accuracy score: 0.8789075353734781\n",
      "recall score: 0.36065573770491804\n",
      "f2 score: 0.40293040293040294\n",
      "                           Logit Regression Results                           \n",
      "==============================================================================\n",
      "Dep. Variable:         Attrition_Flag   No. Observations:                 7088\n",
      "Model:                          Logit   Df Residuals:                     7063\n",
      "Method:                           MLE   Df Model:                           24\n",
      "Date:                Sun, 04 Jul 2021   Pseudo R-squ.:                  0.2864\n",
      "Time:                        20:18:58   Log-Likelihood:                -2229.5\n",
      "converged:                       True   LL-Null:                       -3124.5\n",
      "Covariance Type:            nonrobust   LLR p-value:                     0.000\n",
      "==================================================================================================\n",
      "                                     coef    std err          z      P>|z|      [0.025      0.975]\n",
      "--------------------------------------------------------------------------------------------------\n",
      "Gender                            -0.2144      0.132     -1.621      0.105      -0.474       0.045\n",
      "Dependent_count                    0.0812      0.029      2.808      0.005       0.025       0.138\n",
      "Total_Relationship_Count          -0.4206      0.027    -15.693      0.000      -0.473      -0.368\n",
      "Months_Inactive_12_mon             0.4492      0.036     12.307      0.000       0.378       0.521\n",
      "Contacts_Count_12_mon              0.5117      0.036     14.225      0.000       0.441       0.582\n",
      "Total_Trans_Amt                   -0.0002   1.93e-05    -12.295      0.000      -0.000      -0.000\n",
      "Total_Ct_Chng_Q4_Q1               -3.4302      0.206    -16.644      0.000      -3.834      -3.026\n",
      "Avg_Utilization_Ratio             -2.3788      0.167    -14.214      0.000      -2.707      -2.051\n",
      "Education_Level_Doctorate          0.5313      0.210      2.535      0.011       0.121       0.942\n",
      "Education_Level_Graduate           0.2292      0.139      1.643      0.100      -0.044       0.503\n",
      "Education_Level_High School        0.2828      0.148      1.905      0.057      -0.008       0.574\n",
      "Education_Level_Post-Graduate      0.5983      0.203      2.949      0.003       0.201       0.996\n",
      "Education_Level_Uneducated         0.3246      0.158      2.060      0.039       0.016       0.634\n",
      "Education_Level_Unknown            0.3743      0.156      2.405      0.016       0.069       0.679\n",
      "Marital_Status_Married             0.1900      0.150      1.270      0.204      -0.103       0.483\n",
      "Marital_Status_Single              0.3589      0.151      2.372      0.018       0.062       0.656\n",
      "Marital_Status_Unknown             0.5115      0.195      2.624      0.009       0.129       0.894\n",
      "Income_Category_$40K - $60K        0.3790      0.170      2.231      0.026       0.046       0.712\n",
      "Income_Category_$60K - $80K        0.1986      0.172      1.153      0.249      -0.139       0.536\n",
      "Income_Category_$80K - $120K       0.2185      0.167      1.307      0.191      -0.109       0.546\n",
      "Income_Category_Less than $40K     0.7275      0.178      4.080      0.000       0.378       1.077\n",
      "Income_Category_Unknown            0.1663      0.202      0.825      0.409      -0.229       0.561\n",
      "Card_Category_Gold                 0.1393      0.368      0.379      0.705      -0.582       0.860\n",
      "Card_Category_Platinum             1.0046      0.693      1.450      0.147      -0.353       2.363\n",
      "Card_Category_Silver              -0.0517      0.176     -0.293      0.769      -0.397       0.294\n",
      "==================================================================================================\n"
     ]
    }
   ],
   "source": [
    "lgt1.classification_report()\n",
    "lgt1.confusion_matrix()\n",
    "lgt1.KPI_summary()\n",
    "lgt1.summary()"
   ]
  },
  {
   "cell_type": "code",
   "execution_count": 19,
   "metadata": {
    "scrolled": true
   },
   "outputs": [
    {
     "name": "stdout",
     "output_type": "stream",
     "text": [
      "Optimization terminated successfully.\n",
      "         Current function value: 0.314552\n",
      "         Iterations 7\n"
     ]
    },
    {
     "data": {
      "text/plain": [
       "7403    0.005654\n",
       "2005    0.877189\n",
       "8270    0.070955\n",
       "646     0.305681\n",
       "1690    0.371700\n",
       "          ...   \n",
       "5950    0.013454\n",
       "3434    0.147159\n",
       "9023    0.023893\n",
       "6599    0.010977\n",
       "8523    0.254232\n",
       "Length: 3039, dtype: float64"
      ]
     },
     "execution_count": 19,
     "metadata": {},
     "output_type": "execute_result"
    }
   ],
   "source": [
    "## Initial model ##\n",
    "sm_model = sm.Logit(y_train,X_train).fit()\n",
    "sm_model.predict(X_test)"
   ]
  },
  {
   "cell_type": "code",
   "execution_count": 20,
   "metadata": {
    "scrolled": true
   },
   "outputs": [
    {
     "data": {
      "text/html": [
       "<table class=\"simpletable\">\n",
       "<caption>Logit Regression Results</caption>\n",
       "<tr>\n",
       "  <th>Dep. Variable:</th>    <td>Attrition_Flag</td>  <th>  No. Observations:  </th>  <td>  7088</td> \n",
       "</tr>\n",
       "<tr>\n",
       "  <th>Model:</th>                 <td>Logit</td>      <th>  Df Residuals:      </th>  <td>  7063</td> \n",
       "</tr>\n",
       "<tr>\n",
       "  <th>Method:</th>                 <td>MLE</td>       <th>  Df Model:          </th>  <td>    24</td> \n",
       "</tr>\n",
       "<tr>\n",
       "  <th>Date:</th>            <td>Sun, 04 Jul 2021</td> <th>  Pseudo R-squ.:     </th>  <td>0.2864</td> \n",
       "</tr>\n",
       "<tr>\n",
       "  <th>Time:</th>                <td>20:19:00</td>     <th>  Log-Likelihood:    </th> <td> -2229.5</td>\n",
       "</tr>\n",
       "<tr>\n",
       "  <th>converged:</th>             <td>True</td>       <th>  LL-Null:           </th> <td> -3124.5</td>\n",
       "</tr>\n",
       "<tr>\n",
       "  <th>Covariance Type:</th>     <td>nonrobust</td>    <th>  LLR p-value:       </th>  <td> 0.000</td> \n",
       "</tr>\n",
       "</table>\n",
       "<table class=\"simpletable\">\n",
       "<tr>\n",
       "                 <td></td>                   <th>coef</th>     <th>std err</th>      <th>z</th>      <th>P>|z|</th>  <th>[0.025</th>    <th>0.975]</th>  \n",
       "</tr>\n",
       "<tr>\n",
       "  <th>Gender</th>                         <td>   -0.2144</td> <td>    0.132</td> <td>   -1.621</td> <td> 0.105</td> <td>   -0.474</td> <td>    0.045</td>\n",
       "</tr>\n",
       "<tr>\n",
       "  <th>Dependent_count</th>                <td>    0.0812</td> <td>    0.029</td> <td>    2.808</td> <td> 0.005</td> <td>    0.025</td> <td>    0.138</td>\n",
       "</tr>\n",
       "<tr>\n",
       "  <th>Total_Relationship_Count</th>       <td>   -0.4206</td> <td>    0.027</td> <td>  -15.693</td> <td> 0.000</td> <td>   -0.473</td> <td>   -0.368</td>\n",
       "</tr>\n",
       "<tr>\n",
       "  <th>Months_Inactive_12_mon</th>         <td>    0.4492</td> <td>    0.036</td> <td>   12.307</td> <td> 0.000</td> <td>    0.378</td> <td>    0.521</td>\n",
       "</tr>\n",
       "<tr>\n",
       "  <th>Contacts_Count_12_mon</th>          <td>    0.5117</td> <td>    0.036</td> <td>   14.225</td> <td> 0.000</td> <td>    0.441</td> <td>    0.582</td>\n",
       "</tr>\n",
       "<tr>\n",
       "  <th>Total_Trans_Amt</th>                <td>   -0.0002</td> <td> 1.93e-05</td> <td>  -12.295</td> <td> 0.000</td> <td>   -0.000</td> <td>   -0.000</td>\n",
       "</tr>\n",
       "<tr>\n",
       "  <th>Total_Ct_Chng_Q4_Q1</th>            <td>   -3.4302</td> <td>    0.206</td> <td>  -16.644</td> <td> 0.000</td> <td>   -3.834</td> <td>   -3.026</td>\n",
       "</tr>\n",
       "<tr>\n",
       "  <th>Avg_Utilization_Ratio</th>          <td>   -2.3788</td> <td>    0.167</td> <td>  -14.214</td> <td> 0.000</td> <td>   -2.707</td> <td>   -2.051</td>\n",
       "</tr>\n",
       "<tr>\n",
       "  <th>Education_Level_Doctorate</th>      <td>    0.5313</td> <td>    0.210</td> <td>    2.535</td> <td> 0.011</td> <td>    0.121</td> <td>    0.942</td>\n",
       "</tr>\n",
       "<tr>\n",
       "  <th>Education_Level_Graduate</th>       <td>    0.2292</td> <td>    0.139</td> <td>    1.643</td> <td> 0.100</td> <td>   -0.044</td> <td>    0.503</td>\n",
       "</tr>\n",
       "<tr>\n",
       "  <th>Education_Level_High School</th>    <td>    0.2828</td> <td>    0.148</td> <td>    1.905</td> <td> 0.057</td> <td>   -0.008</td> <td>    0.574</td>\n",
       "</tr>\n",
       "<tr>\n",
       "  <th>Education_Level_Post-Graduate</th>  <td>    0.5983</td> <td>    0.203</td> <td>    2.949</td> <td> 0.003</td> <td>    0.201</td> <td>    0.996</td>\n",
       "</tr>\n",
       "<tr>\n",
       "  <th>Education_Level_Uneducated</th>     <td>    0.3246</td> <td>    0.158</td> <td>    2.060</td> <td> 0.039</td> <td>    0.016</td> <td>    0.634</td>\n",
       "</tr>\n",
       "<tr>\n",
       "  <th>Education_Level_Unknown</th>        <td>    0.3743</td> <td>    0.156</td> <td>    2.405</td> <td> 0.016</td> <td>    0.069</td> <td>    0.679</td>\n",
       "</tr>\n",
       "<tr>\n",
       "  <th>Marital_Status_Married</th>         <td>    0.1900</td> <td>    0.150</td> <td>    1.270</td> <td> 0.204</td> <td>   -0.103</td> <td>    0.483</td>\n",
       "</tr>\n",
       "<tr>\n",
       "  <th>Marital_Status_Single</th>          <td>    0.3589</td> <td>    0.151</td> <td>    2.372</td> <td> 0.018</td> <td>    0.062</td> <td>    0.656</td>\n",
       "</tr>\n",
       "<tr>\n",
       "  <th>Marital_Status_Unknown</th>         <td>    0.5115</td> <td>    0.195</td> <td>    2.624</td> <td> 0.009</td> <td>    0.129</td> <td>    0.894</td>\n",
       "</tr>\n",
       "<tr>\n",
       "  <th>Income_Category_$40K - $60K</th>    <td>    0.3790</td> <td>    0.170</td> <td>    2.231</td> <td> 0.026</td> <td>    0.046</td> <td>    0.712</td>\n",
       "</tr>\n",
       "<tr>\n",
       "  <th>Income_Category_$60K - $80K</th>    <td>    0.1986</td> <td>    0.172</td> <td>    1.153</td> <td> 0.249</td> <td>   -0.139</td> <td>    0.536</td>\n",
       "</tr>\n",
       "<tr>\n",
       "  <th>Income_Category_$80K - $120K</th>   <td>    0.2185</td> <td>    0.167</td> <td>    1.307</td> <td> 0.191</td> <td>   -0.109</td> <td>    0.546</td>\n",
       "</tr>\n",
       "<tr>\n",
       "  <th>Income_Category_Less than $40K</th> <td>    0.7275</td> <td>    0.178</td> <td>    4.080</td> <td> 0.000</td> <td>    0.378</td> <td>    1.077</td>\n",
       "</tr>\n",
       "<tr>\n",
       "  <th>Income_Category_Unknown</th>        <td>    0.1663</td> <td>    0.202</td> <td>    0.825</td> <td> 0.409</td> <td>   -0.229</td> <td>    0.561</td>\n",
       "</tr>\n",
       "<tr>\n",
       "  <th>Card_Category_Gold</th>             <td>    0.1393</td> <td>    0.368</td> <td>    0.379</td> <td> 0.705</td> <td>   -0.582</td> <td>    0.860</td>\n",
       "</tr>\n",
       "<tr>\n",
       "  <th>Card_Category_Platinum</th>         <td>    1.0046</td> <td>    0.693</td> <td>    1.450</td> <td> 0.147</td> <td>   -0.353</td> <td>    2.363</td>\n",
       "</tr>\n",
       "<tr>\n",
       "  <th>Card_Category_Silver</th>           <td>   -0.0517</td> <td>    0.176</td> <td>   -0.293</td> <td> 0.769</td> <td>   -0.397</td> <td>    0.294</td>\n",
       "</tr>\n",
       "</table>"
      ],
      "text/plain": [
       "<class 'statsmodels.iolib.summary.Summary'>\n",
       "\"\"\"\n",
       "                           Logit Regression Results                           \n",
       "==============================================================================\n",
       "Dep. Variable:         Attrition_Flag   No. Observations:                 7088\n",
       "Model:                          Logit   Df Residuals:                     7063\n",
       "Method:                           MLE   Df Model:                           24\n",
       "Date:                Sun, 04 Jul 2021   Pseudo R-squ.:                  0.2864\n",
       "Time:                        20:19:00   Log-Likelihood:                -2229.5\n",
       "converged:                       True   LL-Null:                       -3124.5\n",
       "Covariance Type:            nonrobust   LLR p-value:                     0.000\n",
       "==================================================================================================\n",
       "                                     coef    std err          z      P>|z|      [0.025      0.975]\n",
       "--------------------------------------------------------------------------------------------------\n",
       "Gender                            -0.2144      0.132     -1.621      0.105      -0.474       0.045\n",
       "Dependent_count                    0.0812      0.029      2.808      0.005       0.025       0.138\n",
       "Total_Relationship_Count          -0.4206      0.027    -15.693      0.000      -0.473      -0.368\n",
       "Months_Inactive_12_mon             0.4492      0.036     12.307      0.000       0.378       0.521\n",
       "Contacts_Count_12_mon              0.5117      0.036     14.225      0.000       0.441       0.582\n",
       "Total_Trans_Amt                   -0.0002   1.93e-05    -12.295      0.000      -0.000      -0.000\n",
       "Total_Ct_Chng_Q4_Q1               -3.4302      0.206    -16.644      0.000      -3.834      -3.026\n",
       "Avg_Utilization_Ratio             -2.3788      0.167    -14.214      0.000      -2.707      -2.051\n",
       "Education_Level_Doctorate          0.5313      0.210      2.535      0.011       0.121       0.942\n",
       "Education_Level_Graduate           0.2292      0.139      1.643      0.100      -0.044       0.503\n",
       "Education_Level_High School        0.2828      0.148      1.905      0.057      -0.008       0.574\n",
       "Education_Level_Post-Graduate      0.5983      0.203      2.949      0.003       0.201       0.996\n",
       "Education_Level_Uneducated         0.3246      0.158      2.060      0.039       0.016       0.634\n",
       "Education_Level_Unknown            0.3743      0.156      2.405      0.016       0.069       0.679\n",
       "Marital_Status_Married             0.1900      0.150      1.270      0.204      -0.103       0.483\n",
       "Marital_Status_Single              0.3589      0.151      2.372      0.018       0.062       0.656\n",
       "Marital_Status_Unknown             0.5115      0.195      2.624      0.009       0.129       0.894\n",
       "Income_Category_$40K - $60K        0.3790      0.170      2.231      0.026       0.046       0.712\n",
       "Income_Category_$60K - $80K        0.1986      0.172      1.153      0.249      -0.139       0.536\n",
       "Income_Category_$80K - $120K       0.2185      0.167      1.307      0.191      -0.109       0.546\n",
       "Income_Category_Less than $40K     0.7275      0.178      4.080      0.000       0.378       1.077\n",
       "Income_Category_Unknown            0.1663      0.202      0.825      0.409      -0.229       0.561\n",
       "Card_Category_Gold                 0.1393      0.368      0.379      0.705      -0.582       0.860\n",
       "Card_Category_Platinum             1.0046      0.693      1.450      0.147      -0.353       2.363\n",
       "Card_Category_Silver              -0.0517      0.176     -0.293      0.769      -0.397       0.294\n",
       "==================================================================================================\n",
       "\"\"\""
      ]
     },
     "execution_count": 20,
     "metadata": {},
     "output_type": "execute_result"
    }
   ],
   "source": [
    "sm_model.summary()"
   ]
  },
  {
   "cell_type": "code",
   "execution_count": null,
   "metadata": {},
   "outputs": [],
   "source": []
  },
  {
   "cell_type": "code",
   "execution_count": 21,
   "metadata": {},
   "outputs": [
    {
     "name": "stderr",
     "output_type": "stream",
     "text": [
      "C:\\Users\\user\\anaconda3\\lib\\site-packages\\sklearn\\linear_model\\_logistic.py:765: ConvergenceWarning: lbfgs failed to converge (status=1):\n",
      "STOP: TOTAL NO. of ITERATIONS REACHED LIMIT.\n",
      "\n",
      "Increase the number of iterations (max_iter) or scale the data as shown in:\n",
      "    https://scikit-learn.org/stable/modules/preprocessing.html\n",
      "Please also refer to the documentation for alternative solver options:\n",
      "    https://scikit-learn.org/stable/modules/linear_model.html#logistic-regression\n",
      "  extra_warning_msg=_LOGISTIC_SOLVER_CONVERGENCE_MSG)\n"
     ]
    },
    {
     "data": {
      "text/plain": [
       "array([[-6.00305340e-01,  1.23256005e-01, -4.15951531e-01,\n",
       "         4.88822364e-01,  5.86253230e-01, -2.81606595e-04,\n",
       "        -1.93368160e+00, -1.69269479e+00,  1.15335111e-01,\n",
       "        -2.51643331e-01, -1.28085687e-01,  1.63471329e-01,\n",
       "        -9.17796247e-03,  5.21724989e-03, -5.87558502e-01,\n",
       "         1.15351412e-01,  1.89891531e-01, -1.75795158e-01,\n",
       "        -2.19809197e-01, -1.12959793e-01,  3.06510789e-01,\n",
       "        -1.46792938e-01,  5.79197206e-02,  4.70077355e-02,\n",
       "         1.21549361e-01]])"
      ]
     },
     "execution_count": 21,
     "metadata": {},
     "output_type": "execute_result"
    }
   ],
   "source": [
    "sk_model = LogisticRegression(fit_intercept = False, C = 1e9)\n",
    "sk_model.fit(X_train,y_train)\n",
    "sk_model.coef_"
   ]
  },
  {
   "cell_type": "code",
   "execution_count": 22,
   "metadata": {},
   "outputs": [
    {
     "data": {
      "text/plain": [
       "Gender                                1.000\n",
       "Dependent_count                       5.000\n",
       "Total_Relationship_Count              6.000\n",
       "Months_Inactive_12_mon                6.000\n",
       "Contacts_Count_12_mon                 6.000\n",
       "Total_Trans_Amt                   18484.000\n",
       "Total_Ct_Chng_Q4_Q1                   3.714\n",
       "Avg_Utilization_Ratio                 0.995\n",
       "Education_Level_Doctorate             1.000\n",
       "Education_Level_Graduate              1.000\n",
       "Education_Level_High School           1.000\n",
       "Education_Level_Post-Graduate         1.000\n",
       "Education_Level_Uneducated            1.000\n",
       "Education_Level_Unknown               1.000\n",
       "Marital_Status_Married                1.000\n",
       "Marital_Status_Single                 1.000\n",
       "Marital_Status_Unknown                1.000\n",
       "Income_Category_$40K - $60K           1.000\n",
       "Income_Category_$60K - $80K           1.000\n",
       "Income_Category_$80K - $120K          1.000\n",
       "Income_Category_Less than $40K        1.000\n",
       "Income_Category_Unknown               1.000\n",
       "Card_Category_Gold                    1.000\n",
       "Card_Category_Platinum                1.000\n",
       "Card_Category_Silver                  1.000\n",
       "dtype: float64"
      ]
     },
     "execution_count": 22,
     "metadata": {},
     "output_type": "execute_result"
    }
   ],
   "source": [
    "X_train.max()"
   ]
  },
  {
   "cell_type": "code",
   "execution_count": 23,
   "metadata": {
    "scrolled": true
   },
   "outputs": [
    {
     "name": "stderr",
     "output_type": "stream",
     "text": [
      "C:\\Users\\user\\anaconda3\\lib\\site-packages\\ipykernel_launcher.py:7: SettingWithCopyWarning: \n",
      "A value is trying to be set on a copy of a slice from a DataFrame.\n",
      "Try using .loc[row_indexer,col_indexer] = value instead\n",
      "\n",
      "See the caveats in the documentation: https://pandas.pydata.org/pandas-docs/stable/user_guide/indexing.html#returning-a-view-versus-a-copy\n",
      "  import sys\n",
      "C:\\Users\\user\\anaconda3\\lib\\site-packages\\pandas\\core\\indexing.py:965: SettingWithCopyWarning: \n",
      "A value is trying to be set on a copy of a slice from a DataFrame.\n",
      "Try using .loc[row_indexer,col_indexer] = value instead\n",
      "\n",
      "See the caveats in the documentation: https://pandas.pydata.org/pandas-docs/stable/user_guide/indexing.html#returning-a-view-versus-a-copy\n",
      "  self.obj[item] = s\n",
      "C:\\Users\\user\\anaconda3\\lib\\site-packages\\ipykernel_launcher.py:8: SettingWithCopyWarning: \n",
      "A value is trying to be set on a copy of a slice from a DataFrame.\n",
      "Try using .loc[row_indexer,col_indexer] = value instead\n",
      "\n",
      "See the caveats in the documentation: https://pandas.pydata.org/pandas-docs/stable/user_guide/indexing.html#returning-a-view-versus-a-copy\n",
      "  \n",
      "C:\\Users\\user\\anaconda3\\lib\\site-packages\\pandas\\core\\indexing.py:965: SettingWithCopyWarning: \n",
      "A value is trying to be set on a copy of a slice from a DataFrame.\n",
      "Try using .loc[row_indexer,col_indexer] = value instead\n",
      "\n",
      "See the caveats in the documentation: https://pandas.pydata.org/pandas-docs/stable/user_guide/indexing.html#returning-a-view-versus-a-copy\n",
      "  self.obj[item] = s\n"
     ]
    }
   ],
   "source": [
    "cols_to_scale = ['Dependent_count','Total_Relationship_Count','Months_Inactive_12_mon','Contacts_Count_12_mon','Total_Trans_Amt','Total_Ct_Chng_Q4_Q1','Avg_Utilization_Ratio']\n",
    "\n",
    "from sklearn.preprocessing import MinMaxScaler\n",
    "\n",
    "scaler = MinMaxScaler()\n",
    "\n",
    "X_train[cols_to_scale] = scaler.fit_transform(X_train[cols_to_scale])\n",
    "X_test[cols_to_scale] = scaler.fit_transform(X_test[cols_to_scale]) "
   ]
  },
  {
   "cell_type": "code",
   "execution_count": 24,
   "metadata": {
    "scrolled": true
   },
   "outputs": [
    {
     "data": {
      "text/plain": [
       "Gender                            1.0\n",
       "Dependent_count                   1.0\n",
       "Total_Relationship_Count          1.0\n",
       "Months_Inactive_12_mon            1.0\n",
       "Contacts_Count_12_mon             1.0\n",
       "Total_Trans_Amt                   1.0\n",
       "Total_Ct_Chng_Q4_Q1               1.0\n",
       "Avg_Utilization_Ratio             1.0\n",
       "Education_Level_Doctorate         1.0\n",
       "Education_Level_Graduate          1.0\n",
       "Education_Level_High School       1.0\n",
       "Education_Level_Post-Graduate     1.0\n",
       "Education_Level_Uneducated        1.0\n",
       "Education_Level_Unknown           1.0\n",
       "Marital_Status_Married            1.0\n",
       "Marital_Status_Single             1.0\n",
       "Marital_Status_Unknown            1.0\n",
       "Income_Category_$40K - $60K       1.0\n",
       "Income_Category_$60K - $80K       1.0\n",
       "Income_Category_$80K - $120K      1.0\n",
       "Income_Category_Less than $40K    1.0\n",
       "Income_Category_Unknown           1.0\n",
       "Card_Category_Gold                1.0\n",
       "Card_Category_Platinum            1.0\n",
       "Card_Category_Silver              1.0\n",
       "dtype: float64"
      ]
     },
     "execution_count": 24,
     "metadata": {},
     "output_type": "execute_result"
    }
   ],
   "source": [
    "X_train.max()"
   ]
  },
  {
   "cell_type": "markdown",
   "metadata": {},
   "source": [
    "## hyperparameter optimization"
   ]
  },
  {
   "cell_type": "code",
   "execution_count": 48,
   "metadata": {},
   "outputs": [],
   "source": [
    "logit_r = LogisticRegression()"
   ]
  },
  {
   "cell_type": "code",
   "execution_count": 49,
   "metadata": {},
   "outputs": [],
   "source": [
    "from sklearn.model_selection import GridSearchCV"
   ]
  },
  {
   "cell_type": "code",
   "execution_count": 50,
   "metadata": {},
   "outputs": [],
   "source": [
    "parameter_grid = [\n",
    "    {\n",
    "        'penalty': ['l1', 'l2', 'elasticnet', 'none'],\n",
    "        'C': np.logspace(-4,4,20),\n",
    "        'solver': ['newton-cg', 'lbfgs', 'liblinear', 'sag', 'saga'],\n",
    "        'max_iter':[100,1000,1750,2500]\n",
    "    }\n",
    "]"
   ]
  },
  {
   "cell_type": "code",
   "execution_count": 51,
   "metadata": {},
   "outputs": [],
   "source": [
    "clf = GridSearchCV(logit_r, param_grid = parameter_grid, cv = 5, verbose=True, n_jobs = -1)"
   ]
  },
  {
   "cell_type": "code",
   "execution_count": 52,
   "metadata": {},
   "outputs": [
    {
     "name": "stdout",
     "output_type": "stream",
     "text": [
      "Fitting 5 folds for each of 1600 candidates, totalling 8000 fits\n"
     ]
    },
    {
     "name": "stderr",
     "output_type": "stream",
     "text": [
      "C:\\Users\\user\\anaconda3\\lib\\site-packages\\sklearn\\model_selection\\_search.py:921: UserWarning: One or more of the test scores are non-finite: [       nan        nan 0.83930591 ...        nan 0.88163087 0.88163087]\n",
      "  category=UserWarning\n"
     ]
    }
   ],
   "source": [
    "best_clf = clf.fit(X_train,y_train)"
   ]
  },
  {
   "cell_type": "code",
   "execution_count": 53,
   "metadata": {},
   "outputs": [],
   "source": [
    "rawresults = pd.DataFrame(clf.cv_results_)\n",
    "#rawresults"
   ]
  },
  {
   "cell_type": "code",
   "execution_count": 54,
   "metadata": {},
   "outputs": [
    {
     "data": {
      "text/plain": [
       "LogisticRegression(C=4.281332398719396, solver='newton-cg')"
      ]
     },
     "execution_count": 54,
     "metadata": {},
     "output_type": "execute_result"
    }
   ],
   "source": [
    "best_clf.best_estimator_"
   ]
  },
  {
   "cell_type": "code",
   "execution_count": 38,
   "metadata": {},
   "outputs": [
    {
     "data": {
      "text/plain": [
       "0.8826183766932463"
      ]
     },
     "execution_count": 38,
     "metadata": {},
     "output_type": "execute_result"
    }
   ],
   "source": [
    "best_clf.best_score_"
   ]
  },
  {
   "cell_type": "markdown",
   "metadata": {},
   "source": [
    "## testing"
   ]
  },
  {
   "cell_type": "code",
   "execution_count": 25,
   "metadata": {},
   "outputs": [],
   "source": [
    "from logitmodule import sk_logit, sk_logit_balanced"
   ]
  },
  {
   "cell_type": "code",
   "execution_count": 26,
   "metadata": {},
   "outputs": [],
   "source": [
    "logit1 = sk_logit(X_train,X_test,y_train,y_test)"
   ]
  },
  {
   "cell_type": "code",
   "execution_count": 27,
   "metadata": {},
   "outputs": [
    {
     "data": {
      "text/plain": [
       "LogisticRegression(C=4.281332398719396, solver='newton-cg')"
      ]
     },
     "execution_count": 27,
     "metadata": {},
     "output_type": "execute_result"
    }
   ],
   "source": [
    "logit1.model"
   ]
  },
  {
   "cell_type": "code",
   "execution_count": 28,
   "metadata": {},
   "outputs": [
    {
     "name": "stdout",
     "output_type": "stream",
     "text": [
      "accuracy score =  88.12 %\n",
      "recall =  29.71 %\n",
      "precision =  88.96 %\n",
      "f2_score =  34.28 %\n",
      "training accuracy =  88.32 %\n",
      "testing accuracy =  88.12 %\n"
     ]
    }
   ],
   "source": [
    "logit1.KPI_summary()"
   ]
  },
  {
   "cell_type": "code",
   "execution_count": 29,
   "metadata": {},
   "outputs": [
    {
     "name": "stdout",
     "output_type": "stream",
     "text": [
      "Confusion Matrix\n",
      " [[2533   18]\n",
      " [ 343  145]]\n"
     ]
    },
    {
     "data": {
      "image/png": "[encoded data removed]",
      "text/plain": [
       "<Figure size 432x288 with 2 Axes>"
      ]
     },
     "metadata": {
      "needs_background": "light"
     },
     "output_type": "display_data"
    }
   ],
   "source": [
    "logit1.confusion_matrix()"
   ]
  },
  {
   "cell_type": "code",
   "execution_count": 30,
   "metadata": {},
   "outputs": [
    {
     "data": {
      "text/plain": [
       "1    5949\n",
       "0    5949\n",
       "Name: Attrition_Flag, dtype: int64"
      ]
     },
     "execution_count": 30,
     "metadata": {},
     "output_type": "execute_result"
    }
   ],
   "source": [
    "#SMOTENC uses k-nearest neighbour algo to create synthetic samples \n",
    "#\"Note - SMOTENC takes into consideration categorical and continuous variables\"\n",
    "from imblearn.over_sampling import SMOTE\n",
    "\n",
    "#X= ccdata2.drop('Attrition_Flag',axis='columns')\n",
    "#y= ccdata2['Attrition_Flag']\n",
    "smote = SMOTE(sampling_strategy='minority') \n",
    "#samplingstrat specifies whether to use the minority or majority value for under/over-sampling\n",
    "X_sm, y_sm = smote.fit_resample(X_train,y_train)\n",
    "\n",
    "y_sm.value_counts()\n",
    "#generate train test split first then do resampling only on training set"
   ]
  },
  {
   "cell_type": "code",
   "execution_count": 31,
   "metadata": {},
   "outputs": [],
   "source": [
    "logit2 = sk_logit(X_sm,X_test,y_sm,y_test)"
   ]
  },
  {
   "cell_type": "code",
   "execution_count": 32,
   "metadata": {},
   "outputs": [
    {
     "name": "stdout",
     "output_type": "stream",
     "text": [
      "accuracy score =  83.48 %\n",
      "recall =  62.3 %\n",
      "precision =  48.87 %\n",
      "f2_score =  59.05 %\n",
      "training accuracy =  78.96 %\n",
      "testing accuracy =  83.48 %\n"
     ]
    }
   ],
   "source": [
    "logit2.KPI_summary()"
   ]
  },
  {
   "cell_type": "code",
   "execution_count": 33,
   "metadata": {},
   "outputs": [
    {
     "data": {
      "text/plain": [
       "0    3965\n",
       "1    2379\n",
       "Name: Attrition_Flag, dtype: int64"
      ]
     },
     "execution_count": 33,
     "metadata": {},
     "output_type": "execute_result"
    }
   ],
   "source": [
    "##### With Pipeline Step resampling #####\n",
    "over = BorderlineSMOTE(sampling_strategy=0.4)\n",
    "under = RandomUnderSampler(sampling_strategy=0.6)\n",
    "steps = [('o', over), ('u', under)]\n",
    "\n",
    "pipeline = Pipeline(steps=steps)\n",
    "X_train3, y_train3 = pipeline.fit_resample(X_train,y_train)\n",
    "y_train3.value_counts()"
   ]
  },
  {
   "cell_type": "code",
   "execution_count": 34,
   "metadata": {},
   "outputs": [
    {
     "name": "stdout",
     "output_type": "stream",
     "text": [
      "accuracy score =  86.67 %\n",
      "recall =  54.71 %\n",
      "precision =  59.2 %\n",
      "f2_score =  55.56 %\n",
      "training accuracy =  80.56 %\n",
      "testing accuracy =  86.67 %\n"
     ]
    }
   ],
   "source": [
    "logit3 = sk_logit(X_train3,X_test,y_train3,y_test)\n",
    "logit3.KPI_summary()"
   ]
  },
  {
   "cell_type": "markdown",
   "metadata": {},
   "source": [
    "## post-feature selection"
   ]
  },
  {
   "cell_type": "code",
   "execution_count": 35,
   "metadata": {
    "scrolled": true
   },
   "outputs": [
    {
     "data": {
      "text/html": [
       "<table class=\"simpletable\">\n",
       "<caption>Logit Regression Results</caption>\n",
       "<tr>\n",
       "  <th>Dep. Variable:</th>    <td>Attrition_Flag</td>  <th>  No. Observations:  </th>  <td>  7088</td> \n",
       "</tr>\n",
       "<tr>\n",
       "  <th>Model:</th>                 <td>Logit</td>      <th>  Df Residuals:      </th>  <td>  7063</td> \n",
       "</tr>\n",
       "<tr>\n",
       "  <th>Method:</th>                 <td>MLE</td>       <th>  Df Model:          </th>  <td>    24</td> \n",
       "</tr>\n",
       "<tr>\n",
       "  <th>Date:</th>            <td>Sun, 04 Jul 2021</td> <th>  Pseudo R-squ.:     </th>  <td>0.2864</td> \n",
       "</tr>\n",
       "<tr>\n",
       "  <th>Time:</th>                <td>20:19:27</td>     <th>  Log-Likelihood:    </th> <td> -2229.5</td>\n",
       "</tr>\n",
       "<tr>\n",
       "  <th>converged:</th>             <td>True</td>       <th>  LL-Null:           </th> <td> -3124.5</td>\n",
       "</tr>\n",
       "<tr>\n",
       "  <th>Covariance Type:</th>     <td>nonrobust</td>    <th>  LLR p-value:       </th>  <td> 0.000</td> \n",
       "</tr>\n",
       "</table>\n",
       "<table class=\"simpletable\">\n",
       "<tr>\n",
       "                 <td></td>                   <th>coef</th>     <th>std err</th>      <th>z</th>      <th>P>|z|</th>  <th>[0.025</th>    <th>0.975]</th>  \n",
       "</tr>\n",
       "<tr>\n",
       "  <th>Gender</th>                         <td>   -0.2144</td> <td>    0.132</td> <td>   -1.621</td> <td> 0.105</td> <td>   -0.474</td> <td>    0.045</td>\n",
       "</tr>\n",
       "<tr>\n",
       "  <th>Dependent_count</th>                <td>    0.0812</td> <td>    0.029</td> <td>    2.808</td> <td> 0.005</td> <td>    0.025</td> <td>    0.138</td>\n",
       "</tr>\n",
       "<tr>\n",
       "  <th>Total_Relationship_Count</th>       <td>   -0.4206</td> <td>    0.027</td> <td>  -15.693</td> <td> 0.000</td> <td>   -0.473</td> <td>   -0.368</td>\n",
       "</tr>\n",
       "<tr>\n",
       "  <th>Months_Inactive_12_mon</th>         <td>    0.4492</td> <td>    0.036</td> <td>   12.307</td> <td> 0.000</td> <td>    0.378</td> <td>    0.521</td>\n",
       "</tr>\n",
       "<tr>\n",
       "  <th>Contacts_Count_12_mon</th>          <td>    0.5117</td> <td>    0.036</td> <td>   14.225</td> <td> 0.000</td> <td>    0.441</td> <td>    0.582</td>\n",
       "</tr>\n",
       "<tr>\n",
       "  <th>Total_Trans_Amt</th>                <td>   -0.0002</td> <td> 1.93e-05</td> <td>  -12.295</td> <td> 0.000</td> <td>   -0.000</td> <td>   -0.000</td>\n",
       "</tr>\n",
       "<tr>\n",
       "  <th>Total_Ct_Chng_Q4_Q1</th>            <td>   -3.4302</td> <td>    0.206</td> <td>  -16.644</td> <td> 0.000</td> <td>   -3.834</td> <td>   -3.026</td>\n",
       "</tr>\n",
       "<tr>\n",
       "  <th>Avg_Utilization_Ratio</th>          <td>   -2.3788</td> <td>    0.167</td> <td>  -14.214</td> <td> 0.000</td> <td>   -2.707</td> <td>   -2.051</td>\n",
       "</tr>\n",
       "<tr>\n",
       "  <th>Education_Level_Doctorate</th>      <td>    0.5313</td> <td>    0.210</td> <td>    2.535</td> <td> 0.011</td> <td>    0.121</td> <td>    0.942</td>\n",
       "</tr>\n",
       "<tr>\n",
       "  <th>Education_Level_Graduate</th>       <td>    0.2292</td> <td>    0.139</td> <td>    1.643</td> <td> 0.100</td> <td>   -0.044</td> <td>    0.503</td>\n",
       "</tr>\n",
       "<tr>\n",
       "  <th>Education_Level_High School</th>    <td>    0.2828</td> <td>    0.148</td> <td>    1.905</td> <td> 0.057</td> <td>   -0.008</td> <td>    0.574</td>\n",
       "</tr>\n",
       "<tr>\n",
       "  <th>Education_Level_Post-Graduate</th>  <td>    0.5983</td> <td>    0.203</td> <td>    2.949</td> <td> 0.003</td> <td>    0.201</td> <td>    0.996</td>\n",
       "</tr>\n",
       "<tr>\n",
       "  <th>Education_Level_Uneducated</th>     <td>    0.3246</td> <td>    0.158</td> <td>    2.060</td> <td> 0.039</td> <td>    0.016</td> <td>    0.634</td>\n",
       "</tr>\n",
       "<tr>\n",
       "  <th>Education_Level_Unknown</th>        <td>    0.3743</td> <td>    0.156</td> <td>    2.405</td> <td> 0.016</td> <td>    0.069</td> <td>    0.679</td>\n",
       "</tr>\n",
       "<tr>\n",
       "  <th>Marital_Status_Married</th>         <td>    0.1900</td> <td>    0.150</td> <td>    1.270</td> <td> 0.204</td> <td>   -0.103</td> <td>    0.483</td>\n",
       "</tr>\n",
       "<tr>\n",
       "  <th>Marital_Status_Single</th>          <td>    0.3589</td> <td>    0.151</td> <td>    2.372</td> <td> 0.018</td> <td>    0.062</td> <td>    0.656</td>\n",
       "</tr>\n",
       "<tr>\n",
       "  <th>Marital_Status_Unknown</th>         <td>    0.5115</td> <td>    0.195</td> <td>    2.624</td> <td> 0.009</td> <td>    0.129</td> <td>    0.894</td>\n",
       "</tr>\n",
       "<tr>\n",
       "  <th>Income_Category_$40K - $60K</th>    <td>    0.3790</td> <td>    0.170</td> <td>    2.231</td> <td> 0.026</td> <td>    0.046</td> <td>    0.712</td>\n",
       "</tr>\n",
       "<tr>\n",
       "  <th>Income_Category_$60K - $80K</th>    <td>    0.1986</td> <td>    0.172</td> <td>    1.153</td> <td> 0.249</td> <td>   -0.139</td> <td>    0.536</td>\n",
       "</tr>\n",
       "<tr>\n",
       "  <th>Income_Category_$80K - $120K</th>   <td>    0.2185</td> <td>    0.167</td> <td>    1.307</td> <td> 0.191</td> <td>   -0.109</td> <td>    0.546</td>\n",
       "</tr>\n",
       "<tr>\n",
       "  <th>Income_Category_Less than $40K</th> <td>    0.7275</td> <td>    0.178</td> <td>    4.080</td> <td> 0.000</td> <td>    0.378</td> <td>    1.077</td>\n",
       "</tr>\n",
       "<tr>\n",
       "  <th>Income_Category_Unknown</th>        <td>    0.1663</td> <td>    0.202</td> <td>    0.825</td> <td> 0.409</td> <td>   -0.229</td> <td>    0.561</td>\n",
       "</tr>\n",
       "<tr>\n",
       "  <th>Card_Category_Gold</th>             <td>    0.1393</td> <td>    0.368</td> <td>    0.379</td> <td> 0.705</td> <td>   -0.582</td> <td>    0.860</td>\n",
       "</tr>\n",
       "<tr>\n",
       "  <th>Card_Category_Platinum</th>         <td>    1.0046</td> <td>    0.693</td> <td>    1.450</td> <td> 0.147</td> <td>   -0.353</td> <td>    2.363</td>\n",
       "</tr>\n",
       "<tr>\n",
       "  <th>Card_Category_Silver</th>           <td>   -0.0517</td> <td>    0.176</td> <td>   -0.293</td> <td> 0.769</td> <td>   -0.397</td> <td>    0.294</td>\n",
       "</tr>\n",
       "</table>"
      ],
      "text/plain": [
       "<class 'statsmodels.iolib.summary.Summary'>\n",
       "\"\"\"\n",
       "                           Logit Regression Results                           \n",
       "==============================================================================\n",
       "Dep. Variable:         Attrition_Flag   No. Observations:                 7088\n",
       "Model:                          Logit   Df Residuals:                     7063\n",
       "Method:                           MLE   Df Model:                           24\n",
       "Date:                Sun, 04 Jul 2021   Pseudo R-squ.:                  0.2864\n",
       "Time:                        20:19:27   Log-Likelihood:                -2229.5\n",
       "converged:                       True   LL-Null:                       -3124.5\n",
       "Covariance Type:            nonrobust   LLR p-value:                     0.000\n",
       "==================================================================================================\n",
       "                                     coef    std err          z      P>|z|      [0.025      0.975]\n",
       "--------------------------------------------------------------------------------------------------\n",
       "Gender                            -0.2144      0.132     -1.621      0.105      -0.474       0.045\n",
       "Dependent_count                    0.0812      0.029      2.808      0.005       0.025       0.138\n",
       "Total_Relationship_Count          -0.4206      0.027    -15.693      0.000      -0.473      -0.368\n",
       "Months_Inactive_12_mon             0.4492      0.036     12.307      0.000       0.378       0.521\n",
       "Contacts_Count_12_mon              0.5117      0.036     14.225      0.000       0.441       0.582\n",
       "Total_Trans_Amt                   -0.0002   1.93e-05    -12.295      0.000      -0.000      -0.000\n",
       "Total_Ct_Chng_Q4_Q1               -3.4302      0.206    -16.644      0.000      -3.834      -3.026\n",
       "Avg_Utilization_Ratio             -2.3788      0.167    -14.214      0.000      -2.707      -2.051\n",
       "Education_Level_Doctorate          0.5313      0.210      2.535      0.011       0.121       0.942\n",
       "Education_Level_Graduate           0.2292      0.139      1.643      0.100      -0.044       0.503\n",
       "Education_Level_High School        0.2828      0.148      1.905      0.057      -0.008       0.574\n",
       "Education_Level_Post-Graduate      0.5983      0.203      2.949      0.003       0.201       0.996\n",
       "Education_Level_Uneducated         0.3246      0.158      2.060      0.039       0.016       0.634\n",
       "Education_Level_Unknown            0.3743      0.156      2.405      0.016       0.069       0.679\n",
       "Marital_Status_Married             0.1900      0.150      1.270      0.204      -0.103       0.483\n",
       "Marital_Status_Single              0.3589      0.151      2.372      0.018       0.062       0.656\n",
       "Marital_Status_Unknown             0.5115      0.195      2.624      0.009       0.129       0.894\n",
       "Income_Category_$40K - $60K        0.3790      0.170      2.231      0.026       0.046       0.712\n",
       "Income_Category_$60K - $80K        0.1986      0.172      1.153      0.249      -0.139       0.536\n",
       "Income_Category_$80K - $120K       0.2185      0.167      1.307      0.191      -0.109       0.546\n",
       "Income_Category_Less than $40K     0.7275      0.178      4.080      0.000       0.378       1.077\n",
       "Income_Category_Unknown            0.1663      0.202      0.825      0.409      -0.229       0.561\n",
       "Card_Category_Gold                 0.1393      0.368      0.379      0.705      -0.582       0.860\n",
       "Card_Category_Platinum             1.0046      0.693      1.450      0.147      -0.353       2.363\n",
       "Card_Category_Silver              -0.0517      0.176     -0.293      0.769      -0.397       0.294\n",
       "==================================================================================================\n",
       "\"\"\""
      ]
     },
     "execution_count": 35,
     "metadata": {},
     "output_type": "execute_result"
    }
   ],
   "source": [
    "## remove p-value greater than 0.05 ##\n",
    "sm_model.summary()"
   ]
  },
  {
   "cell_type": "code",
   "execution_count": 36,
   "metadata": {},
   "outputs": [],
   "source": [
    "X_train2 = X_train.drop(['Gender',\n",
    "                         'Education_Level_Graduate',\n",
    "                         'Education_Level_High School',\n",
    "                         'Marital_Status_Married',\n",
    "                         'Income_Category_$60K - $80K',\n",
    "                         'Income_Category_$80K - $120K',\n",
    "                         'Card_Category_Gold',\n",
    "                         'Card_Category_Platinum',\n",
    "                         'Card_Category_Silver'],axis=1)\n",
    "\n",
    "X_test2 = X_test.drop(['Gender',\n",
    "                       'Education_Level_Graduate',\n",
    "                       'Education_Level_High School',\n",
    "                       'Marital_Status_Married',\n",
    "                       'Income_Category_$60K - $80K',\n",
    "                       'Income_Category_$80K - $120K',\n",
    "                       'Card_Category_Gold',\n",
    "                       'Card_Category_Platinum',\n",
    "                       'Card_Category_Silver'],axis=1)"
   ]
  },
  {
   "cell_type": "code",
   "execution_count": 37,
   "metadata": {},
   "outputs": [
    {
     "name": "stdout",
     "output_type": "stream",
     "text": [
      "Fitting 5 folds for each of 1600 candidates, totalling 8000 fits\n"
     ]
    },
    {
     "name": "stderr",
     "output_type": "stream",
     "text": [
      "C:\\Users\\user\\anaconda3\\lib\\site-packages\\sklearn\\model_selection\\_search.py:921: UserWarning: One or more of the test scores are non-finite: [       nan        nan 0.83930591 ...        nan 0.88134888 0.88134888]\n",
      "  category=UserWarning\n",
      "C:\\Users\\user\\anaconda3\\lib\\site-packages\\sklearn\\linear_model\\_logistic.py:1323: UserWarning: Setting penalty='none' will ignore the C and l1_ratio parameters\n",
      "  \"Setting penalty='none' will ignore the C and l1_ratio \"\n"
     ]
    }
   ],
   "source": [
    "from sklearn.model_selection import GridSearchCV\n",
    "r_logit = LogisticRegression()\n",
    "parameter_grid = [\n",
    "    {\n",
    "        'penalty': ['l1', 'l2', 'elasticnet', 'none'],\n",
    "        'C': np.logspace(-4,4,20),\n",
    "        'solver': ['newton-cg', 'lbfgs', 'liblinear', 'sag', 'saga'],\n",
    "        'max_iter':[100,1000,1750,2500]\n",
    "    }\n",
    "]\n",
    "clf1 = GridSearchCV(r_logit, param_grid = parameter_grid, cv = 5, verbose=True, n_jobs = -1)\n",
    "best_clf1 = clf1.fit(X_train2,y_train)"
   ]
  },
  {
   "cell_type": "code",
   "execution_count": 38,
   "metadata": {},
   "outputs": [
    {
     "data": {
      "text/plain": [
       "LogisticRegression(C=0.0001, penalty='none', solver='newton-cg')"
      ]
     },
     "execution_count": 38,
     "metadata": {},
     "output_type": "execute_result"
    }
   ],
   "source": [
    "best_clf1.best_estimator_"
   ]
  },
  {
   "cell_type": "code",
   "execution_count": 39,
   "metadata": {},
   "outputs": [
    {
     "name": "stdout",
     "output_type": "stream",
     "text": [
      "accuracy score =  88.06 %\n",
      "recall =  29.71 %\n",
      "precision =  87.88 %\n",
      "f2_score =  34.25 %\n",
      "training accuracy =  88.23 %\n",
      "testing accuracy =  88.06 %\n"
     ]
    }
   ],
   "source": [
    "logit4 = sk_logit(X_train2,X_test2,y_train,y_test)\n",
    "logit4.KPI_summary()"
   ]
  },
  {
   "cell_type": "code",
   "execution_count": 40,
   "metadata": {},
   "outputs": [
    {
     "data": {
      "text/plain": [
       "1    5949\n",
       "0    5949\n",
       "Name: Attrition_Flag, dtype: int64"
      ]
     },
     "execution_count": 40,
     "metadata": {},
     "output_type": "execute_result"
    }
   ],
   "source": [
    "#SMOTE uses k-nearest neighbour algo to create synthetic samples \n",
    "#\"Note - SMOTENC takes into consideration categorical and continuous variables\"\n",
    "from imblearn.over_sampling import SMOTE\n",
    "\n",
    "#X= ccdata2.drop('Attrition_Flag',axis='columns')\n",
    "#y= ccdata2['Attrition_Flag']\n",
    "smote = SMOTE(sampling_strategy='minority') \n",
    "#samplingstrat specifies whether to use the minority or majority value for under/over-sampling\n",
    "X_sm2, y_sm2 = smote.fit_resample(X_train2,y_train)\n",
    "\n",
    "y_sm2.value_counts()\n",
    "#generate train test split first then do resampling only on training set"
   ]
  },
  {
   "cell_type": "code",
   "execution_count": 41,
   "metadata": {},
   "outputs": [],
   "source": [
    "logit5 = sk_logit(X_sm2,X_test2,y_sm2,y_test)"
   ]
  },
  {
   "cell_type": "code",
   "execution_count": 42,
   "metadata": {},
   "outputs": [
    {
     "name": "stdout",
     "output_type": "stream",
     "text": [
      "accuracy score =  83.15 %\n",
      "recall =  62.7 %\n",
      "precision =  48.11 %\n",
      "f2_score =  59.12 %\n",
      "training accuracy =  78.01 %\n",
      "testing accuracy =  83.15 %\n"
     ]
    }
   ],
   "source": [
    "logit5.KPI_summary()"
   ]
  },
  {
   "cell_type": "code",
   "execution_count": 43,
   "metadata": {},
   "outputs": [
    {
     "data": {
      "text/plain": [
       "0    3965\n",
       "1    2379\n",
       "Name: Attrition_Flag, dtype: int64"
      ]
     },
     "execution_count": 43,
     "metadata": {},
     "output_type": "execute_result"
    }
   ],
   "source": [
    "##### With Pipeline Step resampling #####\n",
    "over = BorderlineSMOTE(sampling_strategy=0.4)\n",
    "under = RandomUnderSampler(sampling_strategy=0.6)\n",
    "steps = [('o', over), ('u', under)]\n",
    "\n",
    "pipeline = Pipeline(steps=steps)\n",
    "X_train4, y_train4 = pipeline.fit_resample(X_train2,y_train)\n",
    "y_train4.value_counts()"
   ]
  },
  {
   "cell_type": "code",
   "execution_count": 44,
   "metadata": {},
   "outputs": [],
   "source": [
    "logit6 = sk_logit(X_train4, X_test2,y_train4,y_test)"
   ]
  },
  {
   "cell_type": "code",
   "execution_count": 45,
   "metadata": {},
   "outputs": [
    {
     "name": "stdout",
     "output_type": "stream",
     "text": [
      "accuracy score =  86.05 %\n",
      "recall =  52.87 %\n",
      "precision =  57.08 %\n",
      "f2_score =  53.66 %\n",
      "training accuracy =  78.86 %\n",
      "testing accuracy =  86.05 %\n"
     ]
    }
   ],
   "source": [
    "logit6.KPI_summary()"
   ]
  },
  {
   "cell_type": "markdown",
   "metadata": {},
   "source": [
    "## class weight rebalanced"
   ]
  },
  {
   "cell_type": "code",
   "execution_count": 55,
   "metadata": {},
   "outputs": [],
   "source": [
    "logit7 = sk_logit_balanced(X_train,X_test,y_train,y_test)"
   ]
  },
  {
   "cell_type": "code",
   "execution_count": 56,
   "metadata": {},
   "outputs": [
    {
     "data": {
      "text/plain": [
       "LogisticRegression(C=4.281332398719396, class_weight='balanced',\n",
       "                   solver='newton-cg')"
      ]
     },
     "execution_count": 56,
     "metadata": {},
     "output_type": "execute_result"
    }
   ],
   "source": [
    "logit7.model"
   ]
  },
  {
   "cell_type": "code",
   "execution_count": 57,
   "metadata": {},
   "outputs": [
    {
     "name": "stdout",
     "output_type": "stream",
     "text": [
      "accuracy score =  82.13 %\n",
      "recall =  65.78 %\n",
      "precision =  46.05 %\n",
      "f2_score =  60.59 %\n",
      "training accuracy =  76.58 %\n",
      "testing accuracy =  82.13 %\n"
     ]
    }
   ],
   "source": [
    "logit7.KPI_summary()"
   ]
  },
  {
   "cell_type": "code",
   "execution_count": 60,
   "metadata": {},
   "outputs": [],
   "source": [
    "logit8 = sk_logit_balanced(X_sm,X_test,y_sm,y_test)"
   ]
  },
  {
   "cell_type": "code",
   "execution_count": 61,
   "metadata": {},
   "outputs": [
    {
     "name": "stdout",
     "output_type": "stream",
     "text": [
      "accuracy score =  83.48 %\n",
      "recall =  62.3 %\n",
      "precision =  48.87 %\n",
      "f2_score =  59.05 %\n",
      "training accuracy =  78.96 %\n",
      "testing accuracy =  83.48 %\n"
     ]
    }
   ],
   "source": [
    "logit8.KPI_summary()"
   ]
  },
  {
   "cell_type": "code",
   "execution_count": 62,
   "metadata": {},
   "outputs": [
    {
     "name": "stdout",
     "output_type": "stream",
     "text": [
      "accuracy score =  83.12 %\n",
      "recall =  63.32 %\n",
      "precision =  48.06 %\n",
      "f2_score =  59.54 %\n",
      "training accuracy =  78.64 %\n",
      "testing accuracy =  83.12 %\n"
     ]
    }
   ],
   "source": [
    "logit9 = sk_logit_balanced(X_train3,X_test,y_train3,y_test)\n",
    "logit9.KPI_summary()"
   ]
  },
  {
   "cell_type": "code",
   "execution_count": null,
   "metadata": {},
   "outputs": [],
   "source": []
  },
  {
   "cell_type": "code",
   "execution_count": 63,
   "metadata": {},
   "outputs": [],
   "source": [
    "logit8 = sk_logit_balanced(X_sm,X_test,y_sm,y_test)\n",
    "logit9 = sk_logit_balanced(X_train3,X_test,y_train3,y_test)\n",
    "logit10 = sk_logit_balanced(X_train2,X_test2,y_train,y_test)\n",
    "logit11 = sk_logit_balanced(X_sm2,X_test2,y_sm2,y_test)\n",
    "logit12 = sk_logit_balanced(X_train4, X_test2,y_train4,y_test)"
   ]
  },
  {
   "cell_type": "code",
   "execution_count": 64,
   "metadata": {},
   "outputs": [
    {
     "data": {
      "text/plain": [
       "LogisticRegression(C=4.281332398719396, solver='newton-cg')"
      ]
     },
     "execution_count": 64,
     "metadata": {},
     "output_type": "execute_result"
    }
   ],
   "source": [
    "logit1.model"
   ]
  },
  {
   "cell_type": "code",
   "execution_count": 65,
   "metadata": {},
   "outputs": [
    {
     "name": "stdout",
     "output_type": "stream",
     "text": [
      "logit1 f2 score:  0.34278959810874704 \n",
      "\n",
      "logit2 f2 score:  0.5905205905205905 \n",
      "\n",
      "logit3 f2 score:  0.5555555555555555 \n",
      "\n",
      "logit4 f2 score:  0.3424657534246575 \n",
      "\n",
      "logit5 f2 score:  0.5911901081916537 \n",
      "\n",
      "logit6 f2 score:  0.5366056572379367 \n",
      "\n"
     ]
    },
    {
     "data": {
      "text/plain": [
       "[None, None, None, None, None, None]"
      ]
     },
     "execution_count": 65,
     "metadata": {},
     "output_type": "execute_result"
    }
   ],
   "source": [
    "ls = [logit1,logit2,logit3,logit4,logit5,logit6]\n",
    "[print('logit{} f2 score: '.format(i+1), x.f2_score,'\\n') for i,x in enumerate(ls)]"
   ]
  },
  {
   "cell_type": "code",
   "execution_count": 66,
   "metadata": {},
   "outputs": [
    {
     "name": "stdout",
     "output_type": "stream",
     "text": [
      "logit7 f2 score:  0.6058890147225369 \n",
      "\n",
      "logit8 f2 score:  0.5905205905205905 \n",
      "\n",
      "logit9 f2 score:  0.5953757225433526 \n",
      "\n",
      "logit10 f2 score:  0.6011342155009453 \n",
      "\n",
      "logit11 f2 score:  0.5911901081916537 \n",
      "\n",
      "logit12 f2 score:  0.5951926745516979 \n",
      "\n"
     ]
    },
    {
     "data": {
      "text/plain": [
       "[None, None, None, None, None, None]"
      ]
     },
     "execution_count": 66,
     "metadata": {},
     "output_type": "execute_result"
    }
   ],
   "source": [
    "ls1 = [logit7,logit8,logit9,logit10,logit11,logit12]\n",
    "[print('logit{} f2 score: '.format(i+7), x.f2_score,'\\n') for i,x in enumerate(ls1)]"
   ]
  },
  {
   "cell_type": "code",
   "execution_count": 286,
   "metadata": {},
   "outputs": [
    {
     "data": {
      "text/plain": [
       "LogisticRegression(C=0.615848211066026, class_weight='balanced', max_iter=2500,\n",
       "                   penalty='l1', solver='liblinear')"
      ]
     },
     "execution_count": 286,
     "metadata": {},
     "output_type": "execute_result"
    }
   ],
   "source": [
    "logit7.model"
   ]
  },
  {
   "cell_type": "code",
   "execution_count": null,
   "metadata": {},
   "outputs": [],
   "source": []
  }
 ],
 "metadata": {
  "kernelspec": {
   "display_name": "Python 3",
   "language": "python",
   "name": "python3"
  },
  "language_info": {
   "codemirror_mode": {
    "name": "ipython",
    "version": 3
   },
   "file_extension": ".py",
   "mimetype": "text/x-python",
   "name": "python",
   "nbconvert_exporter": "python",
   "pygments_lexer": "ipython3",
   "version": "3.7.6"
  }
 },
 "nbformat": 4,
 "nbformat_minor": 4
}
